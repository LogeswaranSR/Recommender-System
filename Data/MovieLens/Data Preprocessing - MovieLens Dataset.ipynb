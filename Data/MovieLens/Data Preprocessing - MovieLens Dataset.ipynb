{
 "cells": [
  {
   "cell_type": "markdown",
   "metadata": {},
   "source": [
    "# Data Preprocessing - MovieLens Dataset\n",
    "\n",
    "A Basic Analysis of MovieLens Dataset[Small]"
   ]
  },
  {
   "cell_type": "code",
   "execution_count": 1,
   "metadata": {},
   "outputs": [],
   "source": [
    "import numpy as np\n",
    "import pandas as pd"
   ]
  },
  {
   "cell_type": "markdown",
   "metadata": {},
   "source": [
    "## Movie Data"
   ]
  },
  {
   "cell_type": "code",
   "execution_count": 2,
   "metadata": {},
   "outputs": [
    {
     "name": "stdout",
     "output_type": "stream",
     "text": [
      "<class 'pandas.core.frame.DataFrame'>\n",
      "RangeIndex: 9742 entries, 0 to 9741\n",
      "Data columns (total 3 columns):\n",
      " #   Column   Non-Null Count  Dtype \n",
      "---  ------   --------------  ----- \n",
      " 0   movieId  9742 non-null   int64 \n",
      " 1   title    9742 non-null   object\n",
      " 2   genres   9742 non-null   object\n",
      "dtypes: int64(1), object(2)\n",
      "memory usage: 228.5+ KB\n"
     ]
    }
   ],
   "source": [
    "movies = pd.read_csv(\"ml-latest-small/movies.csv\")\n",
    "movies.info()"
   ]
  },
  {
   "cell_type": "code",
   "execution_count": 59,
   "metadata": {},
   "outputs": [
    {
     "data": {
      "text/plain": [
       "array([     1,      2,      3, ..., 193585, 193587, 193609])"
      ]
     },
     "execution_count": 59,
     "metadata": {},
     "output_type": "execute_result"
    }
   ],
   "source": [
    "movies[\"movieId\"].unique()"
   ]
  },
  {
   "cell_type": "markdown",
   "metadata": {},
   "source": [
    "### Genres Extraction"
   ]
  },
  {
   "cell_type": "code",
   "execution_count": 4,
   "metadata": {},
   "outputs": [
    {
     "data": {
      "text/plain": [
       "0       Adventure|Animation|Children|Comedy|Fantasy\n",
       "1                        Adventure|Children|Fantasy\n",
       "2                                    Comedy|Romance\n",
       "3                              Comedy|Drama|Romance\n",
       "4                                            Comedy\n",
       "                           ...                     \n",
       "9737                Action|Animation|Comedy|Fantasy\n",
       "9738                       Animation|Comedy|Fantasy\n",
       "9739                                          Drama\n",
       "9740                               Action|Animation\n",
       "9741                                         Comedy\n",
       "Name: genres, Length: 9742, dtype: object"
      ]
     },
     "execution_count": 4,
     "metadata": {},
     "output_type": "execute_result"
    }
   ],
   "source": [
    "movies[\"genres\"]"
   ]
  },
  {
   "cell_type": "markdown",
   "metadata": {},
   "source": [
    "Replace *(no genres listed)* with *Unknown*"
   ]
  },
  {
   "cell_type": "code",
   "execution_count": 13,
   "metadata": {},
   "outputs": [],
   "source": [
    "movies[\"genres\"] = movies[\"genres\"].apply(lambda x: \"Unknown\" if x == \"(no genres listed)\" else x)"
   ]
  },
  {
   "cell_type": "code",
   "execution_count": 14,
   "metadata": {},
   "outputs": [
    {
     "data": {
      "text/plain": [
       "0       True\n",
       "1       True\n",
       "2       True\n",
       "3       True\n",
       "4       True\n",
       "        ... \n",
       "9737    True\n",
       "9738    True\n",
       "9739    True\n",
       "9740    True\n",
       "9741    True\n",
       "Name: genres, Length: 9742, dtype: bool"
      ]
     },
     "execution_count": 14,
     "metadata": {},
     "output_type": "execute_result"
    }
   ],
   "source": [
    "genres = set()\n",
    "\n",
    "def add_to_genre_set(genreString: str):\n",
    "    genreList = genreString.split(\"|\")\n",
    "    genres.update(set(genreList))\n",
    "    return True\n",
    "\n",
    "movies[\"genres\"].apply(add_to_genre_set)"
   ]
  },
  {
   "cell_type": "code",
   "execution_count": 19,
   "metadata": {},
   "outputs": [
    {
     "name": "stdout",
     "output_type": "stream",
     "text": [
      "['Musical', 'Romance', 'Children', 'Action', 'Film-Noir', 'IMAX', 'Adventure', 'Animation', 'Mystery', 'Crime', 'Fantasy', 'Horror', 'Unknown', 'Western', 'Drama', 'Documentary', 'Thriller', 'War', 'Sci-Fi', 'Comedy'] \n",
      "Length: 20\n"
     ]
    }
   ],
   "source": [
    "genres = list(genres)\n",
    "print(genres, \"\\nLength:\", len(genres))"
   ]
  },
  {
   "cell_type": "markdown",
   "metadata": {},
   "source": [
    "## Ratings Data"
   ]
  },
  {
   "cell_type": "code",
   "execution_count": 20,
   "metadata": {},
   "outputs": [
    {
     "name": "stdout",
     "output_type": "stream",
     "text": [
      "<class 'pandas.core.frame.DataFrame'>\n",
      "RangeIndex: 100836 entries, 0 to 100835\n",
      "Data columns (total 4 columns):\n",
      " #   Column     Non-Null Count   Dtype  \n",
      "---  ------     --------------   -----  \n",
      " 0   userId     100836 non-null  int64  \n",
      " 1   movieId    100836 non-null  int64  \n",
      " 2   rating     100836 non-null  float64\n",
      " 3   timestamp  100836 non-null  int64  \n",
      "dtypes: float64(1), int64(3)\n",
      "memory usage: 3.1 MB\n"
     ]
    }
   ],
   "source": [
    "ratings = pd.read_csv(\"ml-latest-small/ratings.csv\")\n",
    "ratings.info()"
   ]
  },
  {
   "cell_type": "code",
   "execution_count": 23,
   "metadata": {},
   "outputs": [],
   "source": [
    "user_ids = ratings[\"userId\"].unique()"
   ]
  },
  {
   "cell_type": "markdown",
   "metadata": {},
   "source": [
    "### User Genre Ratings Mapping"
   ]
  },
  {
   "cell_type": "markdown",
   "metadata": {},
   "source": [
    "We'll be calculating the average of ratings given by each user in each genre."
   ]
  },
  {
   "cell_type": "code",
   "execution_count": 48,
   "metadata": {},
   "outputs": [],
   "source": [
    "ugr_dim = (len(user_ids), len(genres))\n",
    "ratings_arr = np.zeros(ugr_dim)"
   ]
  },
  {
   "cell_type": "code",
   "execution_count": 49,
   "metadata": {},
   "outputs": [],
   "source": [
    "def fetch_movie_row(movie, user_ratings, ratings_row, ratings_count):\n",
    "    movie_id = movie[\"movieId\"]\n",
    "    movie_genres = movie[\"genres\"].split(\"|\")\n",
    "    rating_row = user_ratings.loc[user_ratings[\"movieId\"] == movie_id]\n",
    "    curr_rating = rating_row[\"rating\"]\n",
    "    for genre in movie_genres:\n",
    "        idx = genres.index(genre)\n",
    "        ratings_row[idx] += curr_rating\n",
    "        ratings_count[idx] += 1\n",
    "\n",
    "def calculate_user_rows(uid, ratings_arr):\n",
    "    user_ratings = ratings.loc[ratings[\"userId\"] == uid]\n",
    "    rated_movies = movies.loc[movies[\"movieId\"].isin(user_ratings[\"movieId\"])]\n",
    "    ratings_arr_row = ratings_arr[uid-1]\n",
    "    ratings_count_arr = np.zeros(ugr_dim[1])\n",
    "    rated_movies.apply(lambda x: fetch_movie_row(x, user_ratings, ratings_arr_row, ratings_count_arr), axis=1)\n",
    "    # print(\"Ratings Row:\", ratings_arr_row)\n",
    "    # print(\"Ratings Count:\", ratings_count_arr)\n",
    "    result = np.divide(ratings_arr_row, ratings_count_arr, out=np.zeros(ugr_dim[1]), where=ratings_count_arr!=0)\n",
    "    # print(\"Calculation:\", result)\n",
    "    ratings_arr[uid-1] = result"
   ]
  },
  {
   "cell_type": "code",
   "execution_count": 50,
   "metadata": {},
   "outputs": [
    {
     "name": "stderr",
     "output_type": "stream",
     "text": [
      "C:\\Users\\Loges\\AppData\\Local\\Temp\\ipykernel_15164\\3264174124.py:8: FutureWarning: Calling float on a single element Series is deprecated and will raise a TypeError in the future. Use float(ser.iloc[0]) instead\n",
      "  ratings_row[idx] += curr_rating\n"
     ]
    }
   ],
   "source": [
    "for uid in user_ids:\n",
    "    calculate_user_rows(uid, ratings_arr)"
   ]
  },
  {
   "cell_type": "code",
   "execution_count": 53,
   "metadata": {},
   "outputs": [],
   "source": [
    "ratings_arr = np.round(ratings_arr, 2)"
   ]
  },
  {
   "cell_type": "code",
   "execution_count": 54,
   "metadata": {},
   "outputs": [
    {
     "name": "stdout",
     "output_type": "stream",
     "text": [
      "<class 'pandas.core.frame.DataFrame'>\n",
      "RangeIndex: 610 entries, 0 to 609\n",
      "Data columns (total 20 columns):\n",
      " #   Column       Non-Null Count  Dtype  \n",
      "---  ------       --------------  -----  \n",
      " 0   Musical      610 non-null    float64\n",
      " 1   Romance      610 non-null    float64\n",
      " 2   Children     610 non-null    float64\n",
      " 3   Action       610 non-null    float64\n",
      " 4   Film-Noir    610 non-null    float64\n",
      " 5   IMAX         610 non-null    float64\n",
      " 6   Adventure    610 non-null    float64\n",
      " 7   Animation    610 non-null    float64\n",
      " 8   Mystery      610 non-null    float64\n",
      " 9   Crime        610 non-null    float64\n",
      " 10  Fantasy      610 non-null    float64\n",
      " 11  Horror       610 non-null    float64\n",
      " 12  Unknown      610 non-null    float64\n",
      " 13  Western      610 non-null    float64\n",
      " 14  Drama        610 non-null    float64\n",
      " 15  Documentary  610 non-null    float64\n",
      " 16  Thriller     610 non-null    float64\n",
      " 17  War          610 non-null    float64\n",
      " 18  Sci-Fi       610 non-null    float64\n",
      " 19  Comedy       610 non-null    float64\n",
      "dtypes: float64(20)\n",
      "memory usage: 95.4 KB\n"
     ]
    }
   ],
   "source": [
    "ugr_data = pd.DataFrame(ratings_arr, columns=genres)\n",
    "ugr_data.info()"
   ]
  },
  {
   "cell_type": "code",
   "execution_count": 57,
   "metadata": {},
   "outputs": [
    {
     "data": {
      "text/html": [
       "<div>\n",
       "<style scoped>\n",
       "    .dataframe tbody tr th:only-of-type {\n",
       "        vertical-align: middle;\n",
       "    }\n",
       "\n",
       "    .dataframe tbody tr th {\n",
       "        vertical-align: top;\n",
       "    }\n",
       "\n",
       "    .dataframe thead th {\n",
       "        text-align: right;\n",
       "    }\n",
       "</style>\n",
       "<table border=\"1\" class=\"dataframe\">\n",
       "  <thead>\n",
       "    <tr style=\"text-align: right;\">\n",
       "      <th></th>\n",
       "      <th>Musical</th>\n",
       "      <th>Romance</th>\n",
       "      <th>Children</th>\n",
       "      <th>Action</th>\n",
       "      <th>Film-Noir</th>\n",
       "      <th>IMAX</th>\n",
       "      <th>Adventure</th>\n",
       "      <th>Animation</th>\n",
       "      <th>Mystery</th>\n",
       "      <th>Crime</th>\n",
       "      <th>Fantasy</th>\n",
       "      <th>Horror</th>\n",
       "      <th>Unknown</th>\n",
       "      <th>Western</th>\n",
       "      <th>Drama</th>\n",
       "      <th>Documentary</th>\n",
       "      <th>Thriller</th>\n",
       "      <th>War</th>\n",
       "      <th>Sci-Fi</th>\n",
       "      <th>Comedy</th>\n",
       "    </tr>\n",
       "  </thead>\n",
       "  <tbody>\n",
       "    <tr>\n",
       "      <th>count</th>\n",
       "      <td>610.000000</td>\n",
       "      <td>610.000000</td>\n",
       "      <td>610.000000</td>\n",
       "      <td>610.000000</td>\n",
       "      <td>610.000000</td>\n",
       "      <td>610.000000</td>\n",
       "      <td>610.000000</td>\n",
       "      <td>610.000000</td>\n",
       "      <td>610.000000</td>\n",
       "      <td>610.000000</td>\n",
       "      <td>610.000000</td>\n",
       "      <td>610.000000</td>\n",
       "      <td>610.000000</td>\n",
       "      <td>610.000000</td>\n",
       "      <td>610.000000</td>\n",
       "      <td>610.000000</td>\n",
       "      <td>610.000000</td>\n",
       "      <td>610.000000</td>\n",
       "      <td>610.000000</td>\n",
       "      <td>610.000000</td>\n",
       "    </tr>\n",
       "    <tr>\n",
       "      <th>mean</th>\n",
       "      <td>2.765885</td>\n",
       "      <td>3.614951</td>\n",
       "      <td>3.198016</td>\n",
       "      <td>3.544770</td>\n",
       "      <td>1.508262</td>\n",
       "      <td>2.857672</td>\n",
       "      <td>3.593754</td>\n",
       "      <td>3.144607</td>\n",
       "      <td>3.574508</td>\n",
       "      <td>3.714738</td>\n",
       "      <td>3.412508</td>\n",
       "      <td>3.030459</td>\n",
       "      <td>0.154098</td>\n",
       "      <td>2.507934</td>\n",
       "      <td>3.756738</td>\n",
       "      <td>1.381787</td>\n",
       "      <td>3.618311</td>\n",
       "      <td>3.496230</td>\n",
       "      <td>3.503443</td>\n",
       "      <td>3.562049</td>\n",
       "    </tr>\n",
       "    <tr>\n",
       "      <th>std</th>\n",
       "      <td>1.663690</td>\n",
       "      <td>0.691478</td>\n",
       "      <td>1.239336</td>\n",
       "      <td>0.631665</td>\n",
       "      <td>1.943701</td>\n",
       "      <td>1.772597</td>\n",
       "      <td>0.661736</td>\n",
       "      <td>1.450404</td>\n",
       "      <td>1.065050</td>\n",
       "      <td>0.744412</td>\n",
       "      <td>1.003291</td>\n",
       "      <td>1.384890</td>\n",
       "      <td>0.756035</td>\n",
       "      <td>1.814156</td>\n",
       "      <td>0.531123</td>\n",
       "      <td>1.893903</td>\n",
       "      <td>0.625678</td>\n",
       "      <td>1.330698</td>\n",
       "      <td>0.751212</td>\n",
       "      <td>0.564129</td>\n",
       "    </tr>\n",
       "    <tr>\n",
       "      <th>min</th>\n",
       "      <td>0.000000</td>\n",
       "      <td>0.000000</td>\n",
       "      <td>0.000000</td>\n",
       "      <td>0.000000</td>\n",
       "      <td>0.000000</td>\n",
       "      <td>0.000000</td>\n",
       "      <td>0.000000</td>\n",
       "      <td>0.000000</td>\n",
       "      <td>0.000000</td>\n",
       "      <td>0.000000</td>\n",
       "      <td>0.000000</td>\n",
       "      <td>0.000000</td>\n",
       "      <td>0.000000</td>\n",
       "      <td>0.000000</td>\n",
       "      <td>0.750000</td>\n",
       "      <td>0.000000</td>\n",
       "      <td>0.000000</td>\n",
       "      <td>0.000000</td>\n",
       "      <td>0.000000</td>\n",
       "      <td>0.000000</td>\n",
       "    </tr>\n",
       "    <tr>\n",
       "      <th>25%</th>\n",
       "      <td>2.000000</td>\n",
       "      <td>3.250000</td>\n",
       "      <td>3.000000</td>\n",
       "      <td>3.240000</td>\n",
       "      <td>0.000000</td>\n",
       "      <td>0.500000</td>\n",
       "      <td>3.280000</td>\n",
       "      <td>3.000000</td>\n",
       "      <td>3.265000</td>\n",
       "      <td>3.415000</td>\n",
       "      <td>3.092500</td>\n",
       "      <td>2.670000</td>\n",
       "      <td>0.000000</td>\n",
       "      <td>0.000000</td>\n",
       "      <td>3.460000</td>\n",
       "      <td>0.000000</td>\n",
       "      <td>3.310000</td>\n",
       "      <td>3.315000</td>\n",
       "      <td>3.200000</td>\n",
       "      <td>3.250000</td>\n",
       "    </tr>\n",
       "    <tr>\n",
       "      <th>50%</th>\n",
       "      <td>3.400000</td>\n",
       "      <td>3.685000</td>\n",
       "      <td>3.500000</td>\n",
       "      <td>3.600000</td>\n",
       "      <td>0.000000</td>\n",
       "      <td>3.535000</td>\n",
       "      <td>3.650000</td>\n",
       "      <td>3.615000</td>\n",
       "      <td>3.750000</td>\n",
       "      <td>3.800000</td>\n",
       "      <td>3.555000</td>\n",
       "      <td>3.430000</td>\n",
       "      <td>0.000000</td>\n",
       "      <td>3.250000</td>\n",
       "      <td>3.820000</td>\n",
       "      <td>0.000000</td>\n",
       "      <td>3.670000</td>\n",
       "      <td>3.895000</td>\n",
       "      <td>3.590000</td>\n",
       "      <td>3.590000</td>\n",
       "    </tr>\n",
       "    <tr>\n",
       "      <th>75%</th>\n",
       "      <td>4.000000</td>\n",
       "      <td>4.050000</td>\n",
       "      <td>4.000000</td>\n",
       "      <td>3.950000</td>\n",
       "      <td>3.750000</td>\n",
       "      <td>4.000000</td>\n",
       "      <td>4.000000</td>\n",
       "      <td>4.000000</td>\n",
       "      <td>4.197500</td>\n",
       "      <td>4.170000</td>\n",
       "      <td>4.000000</td>\n",
       "      <td>4.000000</td>\n",
       "      <td>0.000000</td>\n",
       "      <td>4.000000</td>\n",
       "      <td>4.107500</td>\n",
       "      <td>3.500000</td>\n",
       "      <td>4.000000</td>\n",
       "      <td>4.270000</td>\n",
       "      <td>4.000000</td>\n",
       "      <td>3.920000</td>\n",
       "    </tr>\n",
       "    <tr>\n",
       "      <th>max</th>\n",
       "      <td>5.000000</td>\n",
       "      <td>5.000000</td>\n",
       "      <td>5.000000</td>\n",
       "      <td>5.000000</td>\n",
       "      <td>5.000000</td>\n",
       "      <td>5.000000</td>\n",
       "      <td>5.000000</td>\n",
       "      <td>5.000000</td>\n",
       "      <td>5.000000</td>\n",
       "      <td>5.000000</td>\n",
       "      <td>5.000000</td>\n",
       "      <td>5.000000</td>\n",
       "      <td>5.000000</td>\n",
       "      <td>5.000000</td>\n",
       "      <td>5.000000</td>\n",
       "      <td>5.000000</td>\n",
       "      <td>5.000000</td>\n",
       "      <td>5.000000</td>\n",
       "      <td>5.000000</td>\n",
       "      <td>5.000000</td>\n",
       "    </tr>\n",
       "  </tbody>\n",
       "</table>\n",
       "</div>"
      ],
      "text/plain": [
       "          Musical     Romance    Children      Action   Film-Noir        IMAX  \\\n",
       "count  610.000000  610.000000  610.000000  610.000000  610.000000  610.000000   \n",
       "mean     2.765885    3.614951    3.198016    3.544770    1.508262    2.857672   \n",
       "std      1.663690    0.691478    1.239336    0.631665    1.943701    1.772597   \n",
       "min      0.000000    0.000000    0.000000    0.000000    0.000000    0.000000   \n",
       "25%      2.000000    3.250000    3.000000    3.240000    0.000000    0.500000   \n",
       "50%      3.400000    3.685000    3.500000    3.600000    0.000000    3.535000   \n",
       "75%      4.000000    4.050000    4.000000    3.950000    3.750000    4.000000   \n",
       "max      5.000000    5.000000    5.000000    5.000000    5.000000    5.000000   \n",
       "\n",
       "        Adventure   Animation     Mystery       Crime     Fantasy      Horror  \\\n",
       "count  610.000000  610.000000  610.000000  610.000000  610.000000  610.000000   \n",
       "mean     3.593754    3.144607    3.574508    3.714738    3.412508    3.030459   \n",
       "std      0.661736    1.450404    1.065050    0.744412    1.003291    1.384890   \n",
       "min      0.000000    0.000000    0.000000    0.000000    0.000000    0.000000   \n",
       "25%      3.280000    3.000000    3.265000    3.415000    3.092500    2.670000   \n",
       "50%      3.650000    3.615000    3.750000    3.800000    3.555000    3.430000   \n",
       "75%      4.000000    4.000000    4.197500    4.170000    4.000000    4.000000   \n",
       "max      5.000000    5.000000    5.000000    5.000000    5.000000    5.000000   \n",
       "\n",
       "          Unknown     Western       Drama  Documentary    Thriller  \\\n",
       "count  610.000000  610.000000  610.000000   610.000000  610.000000   \n",
       "mean     0.154098    2.507934    3.756738     1.381787    3.618311   \n",
       "std      0.756035    1.814156    0.531123     1.893903    0.625678   \n",
       "min      0.000000    0.000000    0.750000     0.000000    0.000000   \n",
       "25%      0.000000    0.000000    3.460000     0.000000    3.310000   \n",
       "50%      0.000000    3.250000    3.820000     0.000000    3.670000   \n",
       "75%      0.000000    4.000000    4.107500     3.500000    4.000000   \n",
       "max      5.000000    5.000000    5.000000     5.000000    5.000000   \n",
       "\n",
       "              War      Sci-Fi      Comedy  \n",
       "count  610.000000  610.000000  610.000000  \n",
       "mean     3.496230    3.503443    3.562049  \n",
       "std      1.330698    0.751212    0.564129  \n",
       "min      0.000000    0.000000    0.000000  \n",
       "25%      3.315000    3.200000    3.250000  \n",
       "50%      3.895000    3.590000    3.590000  \n",
       "75%      4.270000    4.000000    3.920000  \n",
       "max      5.000000    5.000000    5.000000  "
      ]
     },
     "execution_count": 57,
     "metadata": {},
     "output_type": "execute_result"
    }
   ],
   "source": [
    "ugr_data.describe()"
   ]
  },
  {
   "cell_type": "markdown",
   "metadata": {},
   "source": [
    "## Movie Data Encoding"
   ]
  },
  {
   "cell_type": "code",
   "execution_count": 78,
   "metadata": {},
   "outputs": [],
   "source": [
    "md_cols = [\"movieID\", \"year\", \"average_rating\"]\n",
    "md_cols.extend(genres)\n",
    "\n",
    "md_dim = (len(movies), len(md_cols))"
   ]
  },
  {
   "cell_type": "code",
   "execution_count": 129,
   "metadata": {},
   "outputs": [],
   "source": [
    "def extract_year_from_title(title: str):\n",
    "    title = title.strip()\n",
    "    if \"(\" not in title:\n",
    "        return -1\n",
    "    return int(title[-5:-1])\n",
    "\n",
    "def process_average_ratings(movie_id: int):\n",
    "    movie_ratings = ratings.loc[ratings[\"movieId\"] == movie_id]\n",
    "    avg_rating = movie_ratings[\"rating\"].mean()\n",
    "    return np.round(np.float64(0), 2) if np.isnan(avg_rating) else np.round(avg_rating, 2)\n",
    "\n",
    "def encode_genres(movie_row, md_arr):\n",
    "    movie_genres = movie_row[\"genres\"].split(\"|\")\n",
    "    for genre in movie_genres:\n",
    "        idx = md_cols.index(genre)\n",
    "        md_arr[idx] = 1\n",
    "\n",
    "# extract_year_from_title(movies[\"title\"][0])\n",
    "# extract_year_from_title(movies[movies[\"movieId\"] == 40697][\"title\"].values[0])\n",
    "# process_average_ratings(1076)\n",
    "# process_average_ratings(2)"
   ]
  },
  {
   "cell_type": "code",
   "execution_count": 130,
   "metadata": {},
   "outputs": [],
   "source": [
    "movie_data_arr = np.zeros(md_dim)\n",
    "\n",
    "for idx, movie_row in movies.iterrows():\n",
    "    md_arr = movie_data_arr[idx]\n",
    "    movie_id = movie_row[\"movieId\"]\n",
    "    md_arr[0] = movie_id\n",
    "    md_arr[1] = extract_year_from_title(movie_row[\"title\"])\n",
    "    md_arr[2] = process_average_ratings(movie_id)\n",
    "    encode_genres(movie_row, md_arr)"
   ]
  },
  {
   "cell_type": "code",
   "execution_count": 131,
   "metadata": {},
   "outputs": [
    {
     "name": "stdout",
     "output_type": "stream",
     "text": [
      "<class 'pandas.core.frame.DataFrame'>\n",
      "RangeIndex: 9742 entries, 0 to 9741\n",
      "Data columns (total 23 columns):\n",
      " #   Column          Non-Null Count  Dtype  \n",
      "---  ------          --------------  -----  \n",
      " 0   movieID         9742 non-null   float64\n",
      " 1   year            9742 non-null   float64\n",
      " 2   average_rating  9742 non-null   float64\n",
      " 3   Musical         9742 non-null   float64\n",
      " 4   Romance         9742 non-null   float64\n",
      " 5   Children        9742 non-null   float64\n",
      " 6   Action          9742 non-null   float64\n",
      " 7   Film-Noir       9742 non-null   float64\n",
      " 8   IMAX            9742 non-null   float64\n",
      " 9   Adventure       9742 non-null   float64\n",
      " 10  Animation       9742 non-null   float64\n",
      " 11  Mystery         9742 non-null   float64\n",
      " 12  Crime           9742 non-null   float64\n",
      " 13  Fantasy         9742 non-null   float64\n",
      " 14  Horror          9742 non-null   float64\n",
      " 15  Unknown         9742 non-null   float64\n",
      " 16  Western         9742 non-null   float64\n",
      " 17  Drama           9742 non-null   float64\n",
      " 18  Documentary     9742 non-null   float64\n",
      " 19  Thriller        9742 non-null   float64\n",
      " 20  War             9742 non-null   float64\n",
      " 21  Sci-Fi          9742 non-null   float64\n",
      " 22  Comedy          9742 non-null   float64\n",
      "dtypes: float64(23)\n",
      "memory usage: 1.7 MB\n"
     ]
    }
   ],
   "source": [
    "movies_data_df = pd.DataFrame(movie_data_arr, columns=md_cols)\n",
    "movies_data_df.info()"
   ]
  },
  {
   "cell_type": "markdown",
   "metadata": {},
   "source": [
    "## Process Train Data"
   ]
  },
  {
   "cell_type": "code",
   "execution_count": 173,
   "metadata": {},
   "outputs": [
    {
     "name": "stdout",
     "output_type": "stream",
     "text": [
      "<class 'pandas.core.frame.DataFrame'>\n",
      "RangeIndex: 100836 entries, 0 to 100835\n",
      "Data columns (total 4 columns):\n",
      " #   Column     Non-Null Count   Dtype  \n",
      "---  ------     --------------   -----  \n",
      " 0   userId     100836 non-null  int64  \n",
      " 1   movieId    100836 non-null  int64  \n",
      " 2   rating     100836 non-null  float64\n",
      " 3   timestamp  100836 non-null  int64  \n",
      "dtypes: float64(1), int64(3)\n",
      "memory usage: 3.1 MB\n"
     ]
    }
   ],
   "source": [
    "ratings.info()"
   ]
  },
  {
   "cell_type": "code",
   "execution_count": 174,
   "metadata": {},
   "outputs": [],
   "source": [
    "x_users_dim = (len(ratings), len(genres))\n",
    "x_movies_dim = (len(ratings), len(md_cols))\n",
    "\n",
    "train_user_data = np.zeros(x_users_dim)\n",
    "train_movie_data = np.zeros(x_movies_dim)\n",
    "train_ratings = []"
   ]
  },
  {
   "cell_type": "code",
   "execution_count": 175,
   "metadata": {},
   "outputs": [],
   "source": [
    "def process_training_data(idx, ratings_row):\n",
    "    # print(idx, ugr_data.loc[ratings_row[\"userId\"]-1])\n",
    "    ## Add User Data\n",
    "    user_row = ugr_data.loc[ratings_row[\"userId\"]-1]\n",
    "    train_user_data[idx] = user_row\n",
    "\n",
    "    ## Add Movie Data\n",
    "    mr_row = movies_data_df.loc[movies_data_df[\"movieID\"] == ratings_row[\"movieId\"]]\n",
    "    train_movie_data[idx] = mr_row\n",
    "\n",
    "    ## Add Y data [Ratings]\n",
    "    train_ratings.append(ratings_row[\"rating\"])\n",
    "\n",
    "# process_training_data(ratings.loc[0])"
   ]
  },
  {
   "cell_type": "code",
   "execution_count": 176,
   "metadata": {},
   "outputs": [],
   "source": [
    "for idx, ratings_row in ratings.iterrows():\n",
    "    process_training_data(idx, ratings_row)"
   ]
  },
  {
   "cell_type": "code",
   "execution_count": 177,
   "metadata": {},
   "outputs": [
    {
     "name": "stdout",
     "output_type": "stream",
     "text": [
      "Training Data:\n",
      "\tUsers: 100836 \n",
      "\tMovies: 100836 \n",
      "\tTarget(Ratings): 100836\n"
     ]
    }
   ],
   "source": [
    "print(\"Training Data:\\n\\tUsers:\", len(train_user_data), \"\\n\\tMovies:\", len(train_movie_data), \"\\n\\tTarget(Ratings):\", len(train_ratings))"
   ]
  },
  {
   "cell_type": "code",
   "execution_count": 178,
   "metadata": {},
   "outputs": [],
   "source": [
    "x_users_df = pd.DataFrame(train_user_data, columns=genres)\n",
    "x_movies_df = pd.DataFrame(train_movie_data, columns=md_cols)\n",
    "y_series = pd.Series(train_ratings)"
   ]
  },
  {
   "cell_type": "code",
   "execution_count": 180,
   "metadata": {},
   "outputs": [
    {
     "data": {
      "text/html": [
       "<div>\n",
       "<style scoped>\n",
       "    .dataframe tbody tr th:only-of-type {\n",
       "        vertical-align: middle;\n",
       "    }\n",
       "\n",
       "    .dataframe tbody tr th {\n",
       "        vertical-align: top;\n",
       "    }\n",
       "\n",
       "    .dataframe thead th {\n",
       "        text-align: right;\n",
       "    }\n",
       "</style>\n",
       "<table border=\"1\" class=\"dataframe\">\n",
       "  <thead>\n",
       "    <tr style=\"text-align: right;\">\n",
       "      <th></th>\n",
       "      <th>movieID</th>\n",
       "      <th>year</th>\n",
       "      <th>average_rating</th>\n",
       "      <th>Musical</th>\n",
       "      <th>Romance</th>\n",
       "      <th>Children</th>\n",
       "      <th>Action</th>\n",
       "      <th>Film-Noir</th>\n",
       "      <th>IMAX</th>\n",
       "      <th>Adventure</th>\n",
       "      <th>...</th>\n",
       "      <th>Fantasy</th>\n",
       "      <th>Horror</th>\n",
       "      <th>Unknown</th>\n",
       "      <th>Western</th>\n",
       "      <th>Drama</th>\n",
       "      <th>Documentary</th>\n",
       "      <th>Thriller</th>\n",
       "      <th>War</th>\n",
       "      <th>Sci-Fi</th>\n",
       "      <th>Comedy</th>\n",
       "    </tr>\n",
       "  </thead>\n",
       "  <tbody>\n",
       "    <tr>\n",
       "      <th>0</th>\n",
       "      <td>1.0</td>\n",
       "      <td>1995.0</td>\n",
       "      <td>3.92</td>\n",
       "      <td>0.0</td>\n",
       "      <td>0.0</td>\n",
       "      <td>1.0</td>\n",
       "      <td>0.0</td>\n",
       "      <td>0.0</td>\n",
       "      <td>0.0</td>\n",
       "      <td>1.0</td>\n",
       "      <td>...</td>\n",
       "      <td>1.0</td>\n",
       "      <td>0.0</td>\n",
       "      <td>0.0</td>\n",
       "      <td>0.0</td>\n",
       "      <td>0.0</td>\n",
       "      <td>0.0</td>\n",
       "      <td>0.0</td>\n",
       "      <td>0.0</td>\n",
       "      <td>0.0</td>\n",
       "      <td>1.0</td>\n",
       "    </tr>\n",
       "    <tr>\n",
       "      <th>1</th>\n",
       "      <td>3.0</td>\n",
       "      <td>1995.0</td>\n",
       "      <td>3.26</td>\n",
       "      <td>0.0</td>\n",
       "      <td>1.0</td>\n",
       "      <td>0.0</td>\n",
       "      <td>0.0</td>\n",
       "      <td>0.0</td>\n",
       "      <td>0.0</td>\n",
       "      <td>0.0</td>\n",
       "      <td>...</td>\n",
       "      <td>0.0</td>\n",
       "      <td>0.0</td>\n",
       "      <td>0.0</td>\n",
       "      <td>0.0</td>\n",
       "      <td>0.0</td>\n",
       "      <td>0.0</td>\n",
       "      <td>0.0</td>\n",
       "      <td>0.0</td>\n",
       "      <td>0.0</td>\n",
       "      <td>1.0</td>\n",
       "    </tr>\n",
       "    <tr>\n",
       "      <th>2</th>\n",
       "      <td>6.0</td>\n",
       "      <td>1995.0</td>\n",
       "      <td>3.95</td>\n",
       "      <td>0.0</td>\n",
       "      <td>0.0</td>\n",
       "      <td>0.0</td>\n",
       "      <td>1.0</td>\n",
       "      <td>0.0</td>\n",
       "      <td>0.0</td>\n",
       "      <td>0.0</td>\n",
       "      <td>...</td>\n",
       "      <td>0.0</td>\n",
       "      <td>0.0</td>\n",
       "      <td>0.0</td>\n",
       "      <td>0.0</td>\n",
       "      <td>0.0</td>\n",
       "      <td>0.0</td>\n",
       "      <td>1.0</td>\n",
       "      <td>0.0</td>\n",
       "      <td>0.0</td>\n",
       "      <td>0.0</td>\n",
       "    </tr>\n",
       "    <tr>\n",
       "      <th>3</th>\n",
       "      <td>47.0</td>\n",
       "      <td>1995.0</td>\n",
       "      <td>3.98</td>\n",
       "      <td>0.0</td>\n",
       "      <td>0.0</td>\n",
       "      <td>0.0</td>\n",
       "      <td>0.0</td>\n",
       "      <td>0.0</td>\n",
       "      <td>0.0</td>\n",
       "      <td>0.0</td>\n",
       "      <td>...</td>\n",
       "      <td>0.0</td>\n",
       "      <td>0.0</td>\n",
       "      <td>0.0</td>\n",
       "      <td>0.0</td>\n",
       "      <td>0.0</td>\n",
       "      <td>0.0</td>\n",
       "      <td>1.0</td>\n",
       "      <td>0.0</td>\n",
       "      <td>0.0</td>\n",
       "      <td>0.0</td>\n",
       "    </tr>\n",
       "    <tr>\n",
       "      <th>4</th>\n",
       "      <td>50.0</td>\n",
       "      <td>1995.0</td>\n",
       "      <td>4.24</td>\n",
       "      <td>0.0</td>\n",
       "      <td>0.0</td>\n",
       "      <td>0.0</td>\n",
       "      <td>0.0</td>\n",
       "      <td>0.0</td>\n",
       "      <td>0.0</td>\n",
       "      <td>0.0</td>\n",
       "      <td>...</td>\n",
       "      <td>0.0</td>\n",
       "      <td>0.0</td>\n",
       "      <td>0.0</td>\n",
       "      <td>0.0</td>\n",
       "      <td>0.0</td>\n",
       "      <td>0.0</td>\n",
       "      <td>1.0</td>\n",
       "      <td>0.0</td>\n",
       "      <td>0.0</td>\n",
       "      <td>0.0</td>\n",
       "    </tr>\n",
       "    <tr>\n",
       "      <th>5</th>\n",
       "      <td>70.0</td>\n",
       "      <td>1996.0</td>\n",
       "      <td>3.51</td>\n",
       "      <td>0.0</td>\n",
       "      <td>0.0</td>\n",
       "      <td>0.0</td>\n",
       "      <td>1.0</td>\n",
       "      <td>0.0</td>\n",
       "      <td>0.0</td>\n",
       "      <td>0.0</td>\n",
       "      <td>...</td>\n",
       "      <td>0.0</td>\n",
       "      <td>1.0</td>\n",
       "      <td>0.0</td>\n",
       "      <td>0.0</td>\n",
       "      <td>0.0</td>\n",
       "      <td>0.0</td>\n",
       "      <td>1.0</td>\n",
       "      <td>0.0</td>\n",
       "      <td>0.0</td>\n",
       "      <td>1.0</td>\n",
       "    </tr>\n",
       "  </tbody>\n",
       "</table>\n",
       "<p>6 rows × 23 columns</p>\n",
       "</div>"
      ],
      "text/plain": [
       "   movieID    year  average_rating  Musical  Romance  Children  Action  \\\n",
       "0      1.0  1995.0            3.92      0.0      0.0       1.0     0.0   \n",
       "1      3.0  1995.0            3.26      0.0      1.0       0.0     0.0   \n",
       "2      6.0  1995.0            3.95      0.0      0.0       0.0     1.0   \n",
       "3     47.0  1995.0            3.98      0.0      0.0       0.0     0.0   \n",
       "4     50.0  1995.0            4.24      0.0      0.0       0.0     0.0   \n",
       "5     70.0  1996.0            3.51      0.0      0.0       0.0     1.0   \n",
       "\n",
       "   Film-Noir  IMAX  Adventure  ...  Fantasy  Horror  Unknown  Western  Drama  \\\n",
       "0        0.0   0.0        1.0  ...      1.0     0.0      0.0      0.0    0.0   \n",
       "1        0.0   0.0        0.0  ...      0.0     0.0      0.0      0.0    0.0   \n",
       "2        0.0   0.0        0.0  ...      0.0     0.0      0.0      0.0    0.0   \n",
       "3        0.0   0.0        0.0  ...      0.0     0.0      0.0      0.0    0.0   \n",
       "4        0.0   0.0        0.0  ...      0.0     0.0      0.0      0.0    0.0   \n",
       "5        0.0   0.0        0.0  ...      0.0     1.0      0.0      0.0    0.0   \n",
       "\n",
       "   Documentary  Thriller  War  Sci-Fi  Comedy  \n",
       "0          0.0       0.0  0.0     0.0     1.0  \n",
       "1          0.0       0.0  0.0     0.0     1.0  \n",
       "2          0.0       1.0  0.0     0.0     0.0  \n",
       "3          0.0       1.0  0.0     0.0     0.0  \n",
       "4          0.0       1.0  0.0     0.0     0.0  \n",
       "5          0.0       1.0  0.0     0.0     1.0  \n",
       "\n",
       "[6 rows x 23 columns]"
      ]
     },
     "execution_count": 180,
     "metadata": {},
     "output_type": "execute_result"
    }
   ],
   "source": [
    "x_movies_df.loc[:5]"
   ]
  },
  {
   "cell_type": "code",
   "execution_count": 181,
   "metadata": {},
   "outputs": [
    {
     "data": {
      "text/plain": [
       "0    4.0\n",
       "1    4.0\n",
       "2    4.0\n",
       "3    5.0\n",
       "4    5.0\n",
       "dtype: float64"
      ]
     },
     "execution_count": 181,
     "metadata": {},
     "output_type": "execute_result"
    }
   ],
   "source": [
    "y_series[:5]"
   ]
  },
  {
   "cell_type": "code",
   "execution_count": 188,
   "metadata": {},
   "outputs": [],
   "source": [
    "x_movies_df.to_csv(\"../training_data/x_movies_data.csv\", index=False)\n",
    "x_users_df.to_csv(\"../training_data/x_users_data.csv\", index=False)\n",
    "y_series.to_csv(\"../training_data/y_data.csv\", index=False, header=[\"Ratings\"])"
   ]
  },
  {
   "cell_type": "code",
   "execution_count": null,
   "metadata": {},
   "outputs": [],
   "source": []
  }
 ],
 "metadata": {
  "kernelspec": {
   "display_name": "movrecsys",
   "language": "python",
   "name": "python3"
  },
  "language_info": {
   "codemirror_mode": {
    "name": "ipython",
    "version": 3
   },
   "file_extension": ".py",
   "mimetype": "text/x-python",
   "name": "python",
   "nbconvert_exporter": "python",
   "pygments_lexer": "ipython3",
   "version": "3.11.4"
  }
 },
 "nbformat": 4,
 "nbformat_minor": 2
}
