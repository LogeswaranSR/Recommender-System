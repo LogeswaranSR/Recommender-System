{
 "cells": [
  {
   "cell_type": "code",
   "execution_count": 1,
   "id": "56037da6",
   "metadata": {},
   "outputs": [],
   "source": [
    "import numpy as np\n",
    "import pandas as pd"
   ]
  },
  {
   "cell_type": "code",
   "execution_count": 2,
   "id": "12bdd5c2",
   "metadata": {},
   "outputs": [],
   "source": [
    "data = pd.read_csv(\"Data/netflix_titles.csv\")"
   ]
  },
  {
   "cell_type": "code",
   "execution_count": 6,
   "id": "1d74de1f",
   "metadata": {},
   "outputs": [
    {
     "name": "stdout",
     "output_type": "stream",
     "text": [
      "<class 'pandas.core.frame.DataFrame'>\n",
      "RangeIndex: 8795 entries, 0 to 8794\n",
      "Data columns (total 12 columns):\n",
      " #   Column        Non-Null Count  Dtype \n",
      "---  ------        --------------  ----- \n",
      " 0   show_id       8795 non-null   object\n",
      " 1   type          8795 non-null   object\n",
      " 2   title         8795 non-null   object\n",
      " 3   director      6166 non-null   object\n",
      " 4   country       8094 non-null   object\n",
      " 5   date_added    8785 non-null   object\n",
      " 6   release_year  8795 non-null   int64 \n",
      " 7   rating        8788 non-null   object\n",
      " 8   duration      8795 non-null   object\n",
      " 9   genre         8795 non-null   object\n",
      " 10  description   8795 non-null   object\n",
      " 11  cast          7970 non-null   object\n",
      "dtypes: int64(1), object(11)\n",
      "memory usage: 824.7+ KB\n"
     ]
    }
   ],
   "source": [
    "data.info()"
   ]
  },
  {
   "cell_type": "code",
   "execution_count": 12,
   "id": "d3700138",
   "metadata": {},
   "outputs": [
    {
     "data": {
      "text/plain": [
       "73"
      ]
     },
     "execution_count": 12,
     "metadata": {},
     "output_type": "execute_result"
    }
   ],
   "source": [
    "genres = set()\n",
    "for row in data['genre']:\n",
    "    row_genres = row.split(\",\")\n",
    "    for i in row_genres:\n",
    "        genres.add(i)\n",
    "len(genres)"
   ]
  },
  {
   "cell_type": "markdown",
   "id": "8bb91765",
   "metadata": {},
   "source": [
    "## Genres"
   ]
  },
  {
   "cell_type": "code",
   "execution_count": 15,
   "id": "14e28ed8",
   "metadata": {},
   "outputs": [
    {
     "data": {
      "text/plain": [
       "0     Romantic TV Shows\n",
       "1          LGBTQ Movies\n",
       "2          LGBTQ Movies\n",
       "3                Movies\n",
       "4         Documentaries\n",
       "dtype: object"
      ]
     },
     "execution_count": 15,
     "metadata": {},
     "output_type": "execute_result"
    }
   ],
   "source": [
    "genres = pd.Series(list(genres))\n",
    "genres[:5]"
   ]
  },
  {
   "cell_type": "code",
   "execution_count": 17,
   "id": "97ea7c35",
   "metadata": {},
   "outputs": [
    {
     "data": {
      "text/plain": [
       "count                     73\n",
       "unique                    73\n",
       "top        Romantic TV Shows\n",
       "freq                       1\n",
       "dtype: object"
      ]
     },
     "execution_count": 17,
     "metadata": {},
     "output_type": "execute_result"
    }
   ],
   "source": [
    "genres.describe()"
   ]
  },
  {
   "cell_type": "markdown",
   "id": "ad4046a9",
   "metadata": {},
   "source": [
    "## Ratings"
   ]
  },
  {
   "cell_type": "code",
   "execution_count": 23,
   "id": "7eac48ff",
   "metadata": {},
   "outputs": [
    {
     "data": {
      "text/plain": [
       "array(['TV-MA', 'R', 'PG-13', 'TV-14', 'TV-G', 'TV-PG', 'NR', 'TV-Y', nan,\n",
       "       'TV-Y7', 'PG', 'G', 'NC-17', 'TV-Y7-FV', 'UR'], dtype=object)"
      ]
     },
     "execution_count": 23,
     "metadata": {},
     "output_type": "execute_result"
    }
   ],
   "source": [
    "data['rating'].unique()"
   ]
  },
  {
   "cell_type": "code",
   "execution_count": null,
   "id": "f9153ddc",
   "metadata": {},
   "outputs": [],
   "source": []
  }
 ],
 "metadata": {
  "kernelspec": {
   "display_name": "movrecsys",
   "language": "python",
   "name": "python3"
  },
  "language_info": {
   "codemirror_mode": {
    "name": "ipython",
    "version": 3
   },
   "file_extension": ".py",
   "mimetype": "text/x-python",
   "name": "python",
   "nbconvert_exporter": "python",
   "pygments_lexer": "ipython3",
   "version": "3.11.4"
  }
 },
 "nbformat": 4,
 "nbformat_minor": 5
}
