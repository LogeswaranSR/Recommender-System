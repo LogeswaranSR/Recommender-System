{
 "cells": [
  {
   "cell_type": "markdown",
   "id": "8727ebac",
   "metadata": {},
   "source": [
    "# Recommender System - Training Notebook\n",
    "\n",
    "This notebook contains the steps required to train a Recommendation System with Neural Networks. \n",
    "\n",
    "*Disclaimer: This notebook is developed with content from* **DeepLearning.AI** *'s ML Specialization Course.*"
   ]
  },
  {
   "cell_type": "code",
   "execution_count": 1,
   "id": "015ca1cd",
   "metadata": {},
   "outputs": [],
   "source": [
    "import numpy as np\n",
    "import pandas as pd\n",
    "\n",
    "import tensorflow as tf\n",
    "from keras.models import Sequential, Model\n",
    "from keras.layers import Dense, Input, Dot\n",
    "from keras.losses import MeanSquaredError\n",
    "from keras.optimizers import Adam\n",
    "from keras.ops import normalize\n",
    "\n",
    "from sklearn.model_selection import train_test_split\n",
    "from sklearn.preprocessing import StandardScaler, MinMaxScaler"
   ]
  },
  {
   "cell_type": "markdown",
   "id": "053ca8a9",
   "metadata": {},
   "source": [
    "## Training Data Preparation"
   ]
  },
  {
   "cell_type": "code",
   "execution_count": 2,
   "id": "66ef7cac",
   "metadata": {},
   "outputs": [
    {
     "name": "stdout",
     "output_type": "stream",
     "text": [
      "<class 'pandas.core.frame.DataFrame'>\n",
      "RangeIndex: 100836 entries, 0 to 100835\n",
      "Data columns (total 20 columns):\n",
      " #   Column       Non-Null Count   Dtype  \n",
      "---  ------       --------------   -----  \n",
      " 0   War          100836 non-null  float64\n",
      " 1   Thriller     100836 non-null  float64\n",
      " 2   Sci-Fi       100836 non-null  float64\n",
      " 3   Documentary  100836 non-null  float64\n",
      " 4   Romance      100836 non-null  float64\n",
      " 5   Horror       100836 non-null  float64\n",
      " 6   Western      100836 non-null  float64\n",
      " 7   Film-Noir    100836 non-null  float64\n",
      " 8   Adventure    100836 non-null  float64\n",
      " 9   Action       100836 non-null  float64\n",
      " 10  Musical      100836 non-null  float64\n",
      " 11  Mystery      100836 non-null  float64\n",
      " 12  Crime        100836 non-null  float64\n",
      " 13  Fantasy      100836 non-null  float64\n",
      " 14  Unknown      100836 non-null  float64\n",
      " 15  IMAX         100836 non-null  float64\n",
      " 16  Comedy       100836 non-null  float64\n",
      " 17  Animation    100836 non-null  float64\n",
      " 18  Children     100836 non-null  float64\n",
      " 19  Drama        100836 non-null  float64\n",
      "dtypes: float64(20)\n",
      "memory usage: 15.4 MB\n"
     ]
    }
   ],
   "source": [
    "file_path = \"Data/training_data/\"\n",
    "\n",
    "users_data = pd.read_csv(file_path+\"x_users_data.csv\")\n",
    "users_data.info()"
   ]
  },
  {
   "cell_type": "code",
   "execution_count": 3,
   "id": "ee54d8ea",
   "metadata": {},
   "outputs": [
    {
     "name": "stdout",
     "output_type": "stream",
     "text": [
      "<class 'pandas.core.frame.DataFrame'>\n",
      "RangeIndex: 100836 entries, 0 to 100835\n",
      "Data columns (total 22 columns):\n",
      " #   Column          Non-Null Count   Dtype  \n",
      "---  ------          --------------   -----  \n",
      " 0   year            100836 non-null  float64\n",
      " 1   average_rating  100836 non-null  float64\n",
      " 2   War             100836 non-null  float64\n",
      " 3   Thriller        100836 non-null  float64\n",
      " 4   Sci-Fi          100836 non-null  float64\n",
      " 5   Documentary     100836 non-null  float64\n",
      " 6   Romance         100836 non-null  float64\n",
      " 7   Horror          100836 non-null  float64\n",
      " 8   Western         100836 non-null  float64\n",
      " 9   Film-Noir       100836 non-null  float64\n",
      " 10  Adventure       100836 non-null  float64\n",
      " 11  Action          100836 non-null  float64\n",
      " 12  Musical         100836 non-null  float64\n",
      " 13  Mystery         100836 non-null  float64\n",
      " 14  Crime           100836 non-null  float64\n",
      " 15  Fantasy         100836 non-null  float64\n",
      " 16  Unknown         100836 non-null  float64\n",
      " 17  IMAX            100836 non-null  float64\n",
      " 18  Comedy          100836 non-null  float64\n",
      " 19  Animation       100836 non-null  float64\n",
      " 20  Children        100836 non-null  float64\n",
      " 21  Drama           100836 non-null  float64\n",
      "dtypes: float64(22)\n",
      "memory usage: 16.9 MB\n"
     ]
    }
   ],
   "source": [
    "x_movies_data = pd.read_csv(file_path+\"x_movies_data.csv\")\n",
    "movies_data = x_movies_data.drop([\"movieID\"], axis=1)\n",
    "movies_data.info()"
   ]
  },
  {
   "cell_type": "code",
   "execution_count": 4,
   "id": "bec5ff19",
   "metadata": {},
   "outputs": [
    {
     "name": "stdout",
     "output_type": "stream",
     "text": [
      "<class 'pandas.core.frame.DataFrame'>\n",
      "RangeIndex: 100836 entries, 0 to 100835\n",
      "Data columns (total 1 columns):\n",
      " #   Column   Non-Null Count   Dtype  \n",
      "---  ------   --------------   -----  \n",
      " 0   Ratings  100836 non-null  float64\n",
      "dtypes: float64(1)\n",
      "memory usage: 787.9 KB\n"
     ]
    }
   ],
   "source": [
    "ratings_data = pd.read_csv(file_path+\"y_data.csv\")\n",
    "ratings_data.info()"
   ]
  },
  {
   "cell_type": "markdown",
   "id": "5f63ce40",
   "metadata": {},
   "source": [
    "### Feature Scaling"
   ]
  },
  {
   "cell_type": "code",
   "execution_count": 5,
   "id": "7c8b6c3f",
   "metadata": {},
   "outputs": [
    {
     "data": {
      "text/plain": [
       "array([[1.08215047, 1.33022989, 1.53248009, ..., 1.35184514, 1.52724654,\n",
       "        1.93760734],\n",
       "       [1.08215047, 1.33022989, 1.53248009, ..., 1.35184514, 1.52724654,\n",
       "        1.93760734],\n",
       "       [1.08215047, 1.33022989, 1.53248009, ..., 1.35184514, 1.52724654,\n",
       "        1.93760734],\n",
       "       ...,\n",
       "       [0.14698461, 0.2056934 , 0.48698599, ..., 0.51791421, 0.43636113,\n",
       "        0.5253731 ],\n",
       "       [0.14698461, 0.2056934 , 0.48698599, ..., 0.51791421, 0.43636113,\n",
       "        0.5253731 ],\n",
       "       [0.14698461, 0.2056934 , 0.48698599, ..., 0.51791421, 0.43636113,\n",
       "        0.5253731 ]])"
      ]
     },
     "execution_count": 5,
     "metadata": {},
     "output_type": "execute_result"
    }
   ],
   "source": [
    "## Scaling User Data\n",
    "\n",
    "users_scaler = StandardScaler()\n",
    "users_scaler.fit(users_data)\n",
    "\n",
    "users_data_scaled = users_scaler.transform(users_data)\n",
    "users_data_scaled"
   ]
  },
  {
   "cell_type": "code",
   "execution_count": 6,
   "id": "1fe4423c",
   "metadata": {},
   "outputs": [
    {
     "data": {
      "text/plain": [
       "array([[ 0.03009026,  0.74046737, -0.22500381, ...,  3.66468004,\n",
       "         3.15450666, -0.8436551 ],\n",
       "       [ 0.03009026, -0.42764262, -0.22500381, ..., -0.27287512,\n",
       "        -0.31700678, -0.8436551 ],\n",
       "       [ 0.03009026,  0.79356328, -0.22500381, ..., -0.27287512,\n",
       "        -0.31700678, -0.8436551 ],\n",
       "       ...,\n",
       "       [ 0.77281057,  0.22720692, -0.22500381, ..., -0.27287512,\n",
       "        -0.31700678, -0.8436551 ],\n",
       "       [ 0.77281057,  1.37761827, -0.22500381, ..., -0.27287512,\n",
       "        -0.31700678, -0.8436551 ],\n",
       "       [ 0.77281057, -2.07361579, -0.22500381, ..., -0.27287512,\n",
       "        -0.31700678,  1.18531851]])"
      ]
     },
     "execution_count": 6,
     "metadata": {},
     "output_type": "execute_result"
    }
   ],
   "source": [
    "## Scaling Movies Data\n",
    "\n",
    "movies_scaler = StandardScaler()\n",
    "movies_scaler.fit(movies_data)\n",
    "\n",
    "movies_data_scaled = movies_scaler.transform(movies_data)\n",
    "movies_data_scaled"
   ]
  },
  {
   "cell_type": "code",
   "execution_count": 7,
   "id": "8a48a7b0",
   "metadata": {},
   "outputs": [
    {
     "data": {
      "text/plain": [
       "array([[0.77777778],\n",
       "       [0.77777778],\n",
       "       [0.77777778],\n",
       "       ...,\n",
       "       [1.        ],\n",
       "       [1.        ],\n",
       "       [0.55555556]])"
      ]
     },
     "execution_count": 7,
     "metadata": {},
     "output_type": "execute_result"
    }
   ],
   "source": [
    "## Scaling Ratings\n",
    "\n",
    "ratings_scaler = MinMaxScaler()\n",
    "ratings_scaler.fit(ratings_data)\n",
    "\n",
    "ratings_data_scaled = ratings_scaler.transform(ratings_data)\n",
    "ratings_data_scaled"
   ]
  },
  {
   "cell_type": "code",
   "execution_count": 8,
   "id": "78cbf0ab",
   "metadata": {},
   "outputs": [
    {
     "name": "stdout",
     "output_type": "stream",
     "text": [
      "True\n",
      "True\n",
      "True\n"
     ]
    }
   ],
   "source": [
    "## Conversion Check\n",
    "\n",
    "print(np.allclose(users_data, users_scaler.inverse_transform(users_data_scaled)))\n",
    "print(np.allclose(movies_data, movies_scaler.inverse_transform(movies_data_scaled)))\n",
    "print(np.allclose(ratings_data, ratings_scaler.inverse_transform(ratings_data_scaled)))"
   ]
  },
  {
   "cell_type": "markdown",
   "id": "ec346fe9",
   "metadata": {},
   "source": [
    "## Training-Test Data Split"
   ]
  },
  {
   "cell_type": "code",
   "execution_count": 9,
   "id": "cad76302",
   "metadata": {},
   "outputs": [],
   "source": [
    "users_train, users_test = train_test_split(users_data_scaled, test_size=0.2, random_state=10, shuffle=True)\n",
    "movies_train, movies_test = train_test_split(movies_data_scaled, test_size=0.2, random_state=10, shuffle=True)\n",
    "ratings_train, ratings_test = train_test_split(ratings_data_scaled, test_size=0.2, random_state=10, shuffle=True)"
   ]
  },
  {
   "cell_type": "code",
   "execution_count": 10,
   "id": "0d887a86",
   "metadata": {},
   "outputs": [
    {
     "name": "stdout",
     "output_type": "stream",
     "text": [
      "Training Data Shape [Users, Movies, Ratings]: (80668, 20) (80668, 22) (80668, 1)\n",
      "Testing Data Shape [Users, Movies, Ratings]: (20168, 20) (20168, 22) (20168, 1)\n"
     ]
    }
   ],
   "source": [
    "print(\"Training Data Shape [Users, Movies, Ratings]:\", users_train.shape, movies_train.shape, ratings_train.shape)\n",
    "print(\"Testing Data Shape [Users, Movies, Ratings]:\", users_test.shape, movies_test.shape, ratings_test.shape)"
   ]
  },
  {
   "cell_type": "markdown",
   "id": "3ec6d4b8",
   "metadata": {},
   "source": [
    "## Model Creation"
   ]
  },
  {
   "cell_type": "code",
   "execution_count": 11,
   "id": "e1c496f0",
   "metadata": {},
   "outputs": [],
   "source": [
    "users_input_shape = users_data.shape[1]\n",
    "movies_input_shape = movies_data.shape[1]\n",
    "output_size = 32"
   ]
  },
  {
   "cell_type": "code",
   "execution_count": 12,
   "id": "13a2f8ad",
   "metadata": {},
   "outputs": [
    {
     "data": {
      "text/html": [
       "<pre style=\"white-space:pre;overflow-x:auto;line-height:normal;font-family:Menlo,'DejaVu Sans Mono',consolas,'Courier New',monospace\"><span style=\"font-weight: bold\">Model: \"functional_2\"</span>\n",
       "</pre>\n"
      ],
      "text/plain": [
       "\u001b[1mModel: \"functional_2\"\u001b[0m\n"
      ]
     },
     "metadata": {},
     "output_type": "display_data"
    },
    {
     "data": {
      "text/html": [
       "<pre style=\"white-space:pre;overflow-x:auto;line-height:normal;font-family:Menlo,'DejaVu Sans Mono',consolas,'Courier New',monospace\">┏━━━━━━━━━━━━━━━━━━━━━┳━━━━━━━━━━━━━━━━━━━┳━━━━━━━━━━━━┳━━━━━━━━━━━━━━━━━━━┓\n",
       "┃<span style=\"font-weight: bold\"> Layer (type)        </span>┃<span style=\"font-weight: bold\"> Output Shape      </span>┃<span style=\"font-weight: bold\">    Param # </span>┃<span style=\"font-weight: bold\"> Connected to      </span>┃\n",
       "┡━━━━━━━━━━━━━━━━━━━━━╇━━━━━━━━━━━━━━━━━━━╇━━━━━━━━━━━━╇━━━━━━━━━━━━━━━━━━━┩\n",
       "│ input_layer         │ (<span style=\"color: #00d7ff; text-decoration-color: #00d7ff\">None</span>, <span style=\"color: #00af00; text-decoration-color: #00af00\">20</span>)        │          <span style=\"color: #00af00; text-decoration-color: #00af00\">0</span> │ -                 │\n",
       "│ (<span style=\"color: #0087ff; text-decoration-color: #0087ff\">InputLayer</span>)        │                   │            │                   │\n",
       "├─────────────────────┼───────────────────┼────────────┼───────────────────┤\n",
       "│ input_layer_2       │ (<span style=\"color: #00d7ff; text-decoration-color: #00d7ff\">None</span>, <span style=\"color: #00af00; text-decoration-color: #00af00\">22</span>)        │          <span style=\"color: #00af00; text-decoration-color: #00af00\">0</span> │ -                 │\n",
       "│ (<span style=\"color: #0087ff; text-decoration-color: #0087ff\">InputLayer</span>)        │                   │            │                   │\n",
       "├─────────────────────┼───────────────────┼────────────┼───────────────────┤\n",
       "│ sequential          │ (<span style=\"color: #00d7ff; text-decoration-color: #00d7ff\">None</span>, <span style=\"color: #00af00; text-decoration-color: #00af00\">32</span>)        │     <span style=\"color: #00af00; text-decoration-color: #00af00\">42,400</span> │ input_layer[<span style=\"color: #00af00; text-decoration-color: #00af00\">0</span>][<span style=\"color: #00af00; text-decoration-color: #00af00\">0</span>] │\n",
       "│ (<span style=\"color: #0087ff; text-decoration-color: #0087ff\">Sequential</span>)        │                   │            │                   │\n",
       "├─────────────────────┼───────────────────┼────────────┼───────────────────┤\n",
       "│ sequential_1        │ (<span style=\"color: #00d7ff; text-decoration-color: #00d7ff\">None</span>, <span style=\"color: #00af00; text-decoration-color: #00af00\">32</span>)        │     <span style=\"color: #00af00; text-decoration-color: #00af00\">42,912</span> │ input_layer_2[<span style=\"color: #00af00; text-decoration-color: #00af00\">0</span>]… │\n",
       "│ (<span style=\"color: #0087ff; text-decoration-color: #0087ff\">Sequential</span>)        │                   │            │                   │\n",
       "├─────────────────────┼───────────────────┼────────────┼───────────────────┤\n",
       "│ normalize           │ (<span style=\"color: #00d7ff; text-decoration-color: #00d7ff\">None</span>, <span style=\"color: #00af00; text-decoration-color: #00af00\">32</span>)        │          <span style=\"color: #00af00; text-decoration-color: #00af00\">0</span> │ sequential[<span style=\"color: #00af00; text-decoration-color: #00af00\">0</span>][<span style=\"color: #00af00; text-decoration-color: #00af00\">0</span>]  │\n",
       "│ (<span style=\"color: #0087ff; text-decoration-color: #0087ff\">Normalize</span>)         │                   │            │                   │\n",
       "├─────────────────────┼───────────────────┼────────────┼───────────────────┤\n",
       "│ normalize_1         │ (<span style=\"color: #00d7ff; text-decoration-color: #00d7ff\">None</span>, <span style=\"color: #00af00; text-decoration-color: #00af00\">32</span>)        │          <span style=\"color: #00af00; text-decoration-color: #00af00\">0</span> │ sequential_1[<span style=\"color: #00af00; text-decoration-color: #00af00\">0</span>][<span style=\"color: #00af00; text-decoration-color: #00af00\">…</span> │\n",
       "│ (<span style=\"color: #0087ff; text-decoration-color: #0087ff\">Normalize</span>)         │                   │            │                   │\n",
       "├─────────────────────┼───────────────────┼────────────┼───────────────────┤\n",
       "│ dot (<span style=\"color: #0087ff; text-decoration-color: #0087ff\">Dot</span>)           │ (<span style=\"color: #00d7ff; text-decoration-color: #00d7ff\">None</span>, <span style=\"color: #00af00; text-decoration-color: #00af00\">1</span>)         │          <span style=\"color: #00af00; text-decoration-color: #00af00\">0</span> │ normalize[<span style=\"color: #00af00; text-decoration-color: #00af00\">0</span>][<span style=\"color: #00af00; text-decoration-color: #00af00\">0</span>],  │\n",
       "│                     │                   │            │ normalize_1[<span style=\"color: #00af00; text-decoration-color: #00af00\">0</span>][<span style=\"color: #00af00; text-decoration-color: #00af00\">0</span>] │\n",
       "└─────────────────────┴───────────────────┴────────────┴───────────────────┘\n",
       "</pre>\n"
      ],
      "text/plain": [
       "┏━━━━━━━━━━━━━━━━━━━━━┳━━━━━━━━━━━━━━━━━━━┳━━━━━━━━━━━━┳━━━━━━━━━━━━━━━━━━━┓\n",
       "┃\u001b[1m \u001b[0m\u001b[1mLayer (type)       \u001b[0m\u001b[1m \u001b[0m┃\u001b[1m \u001b[0m\u001b[1mOutput Shape     \u001b[0m\u001b[1m \u001b[0m┃\u001b[1m \u001b[0m\u001b[1m   Param #\u001b[0m\u001b[1m \u001b[0m┃\u001b[1m \u001b[0m\u001b[1mConnected to     \u001b[0m\u001b[1m \u001b[0m┃\n",
       "┡━━━━━━━━━━━━━━━━━━━━━╇━━━━━━━━━━━━━━━━━━━╇━━━━━━━━━━━━╇━━━━━━━━━━━━━━━━━━━┩\n",
       "│ input_layer         │ (\u001b[38;5;45mNone\u001b[0m, \u001b[38;5;34m20\u001b[0m)        │          \u001b[38;5;34m0\u001b[0m │ -                 │\n",
       "│ (\u001b[38;5;33mInputLayer\u001b[0m)        │                   │            │                   │\n",
       "├─────────────────────┼───────────────────┼────────────┼───────────────────┤\n",
       "│ input_layer_2       │ (\u001b[38;5;45mNone\u001b[0m, \u001b[38;5;34m22\u001b[0m)        │          \u001b[38;5;34m0\u001b[0m │ -                 │\n",
       "│ (\u001b[38;5;33mInputLayer\u001b[0m)        │                   │            │                   │\n",
       "├─────────────────────┼───────────────────┼────────────┼───────────────────┤\n",
       "│ sequential          │ (\u001b[38;5;45mNone\u001b[0m, \u001b[38;5;34m32\u001b[0m)        │     \u001b[38;5;34m42,400\u001b[0m │ input_layer[\u001b[38;5;34m0\u001b[0m][\u001b[38;5;34m0\u001b[0m] │\n",
       "│ (\u001b[38;5;33mSequential\u001b[0m)        │                   │            │                   │\n",
       "├─────────────────────┼───────────────────┼────────────┼───────────────────┤\n",
       "│ sequential_1        │ (\u001b[38;5;45mNone\u001b[0m, \u001b[38;5;34m32\u001b[0m)        │     \u001b[38;5;34m42,912\u001b[0m │ input_layer_2[\u001b[38;5;34m0\u001b[0m]… │\n",
       "│ (\u001b[38;5;33mSequential\u001b[0m)        │                   │            │                   │\n",
       "├─────────────────────┼───────────────────┼────────────┼───────────────────┤\n",
       "│ normalize           │ (\u001b[38;5;45mNone\u001b[0m, \u001b[38;5;34m32\u001b[0m)        │          \u001b[38;5;34m0\u001b[0m │ sequential[\u001b[38;5;34m0\u001b[0m][\u001b[38;5;34m0\u001b[0m]  │\n",
       "│ (\u001b[38;5;33mNormalize\u001b[0m)         │                   │            │                   │\n",
       "├─────────────────────┼───────────────────┼────────────┼───────────────────┤\n",
       "│ normalize_1         │ (\u001b[38;5;45mNone\u001b[0m, \u001b[38;5;34m32\u001b[0m)        │          \u001b[38;5;34m0\u001b[0m │ sequential_1[\u001b[38;5;34m0\u001b[0m][\u001b[38;5;34m…\u001b[0m │\n",
       "│ (\u001b[38;5;33mNormalize\u001b[0m)         │                   │            │                   │\n",
       "├─────────────────────┼───────────────────┼────────────┼───────────────────┤\n",
       "│ dot (\u001b[38;5;33mDot\u001b[0m)           │ (\u001b[38;5;45mNone\u001b[0m, \u001b[38;5;34m1\u001b[0m)         │          \u001b[38;5;34m0\u001b[0m │ normalize[\u001b[38;5;34m0\u001b[0m][\u001b[38;5;34m0\u001b[0m],  │\n",
       "│                     │                   │            │ normalize_1[\u001b[38;5;34m0\u001b[0m][\u001b[38;5;34m0\u001b[0m] │\n",
       "└─────────────────────┴───────────────────┴────────────┴───────────────────┘\n"
      ]
     },
     "metadata": {},
     "output_type": "display_data"
    },
    {
     "data": {
      "text/html": [
       "<pre style=\"white-space:pre;overflow-x:auto;line-height:normal;font-family:Menlo,'DejaVu Sans Mono',consolas,'Courier New',monospace\"><span style=\"font-weight: bold\"> Total params: </span><span style=\"color: #00af00; text-decoration-color: #00af00\">85,312</span> (333.25 KB)\n",
       "</pre>\n"
      ],
      "text/plain": [
       "\u001b[1m Total params: \u001b[0m\u001b[38;5;34m85,312\u001b[0m (333.25 KB)\n"
      ]
     },
     "metadata": {},
     "output_type": "display_data"
    },
    {
     "data": {
      "text/html": [
       "<pre style=\"white-space:pre;overflow-x:auto;line-height:normal;font-family:Menlo,'DejaVu Sans Mono',consolas,'Courier New',monospace\"><span style=\"font-weight: bold\"> Trainable params: </span><span style=\"color: #00af00; text-decoration-color: #00af00\">85,312</span> (333.25 KB)\n",
       "</pre>\n"
      ],
      "text/plain": [
       "\u001b[1m Trainable params: \u001b[0m\u001b[38;5;34m85,312\u001b[0m (333.25 KB)\n"
      ]
     },
     "metadata": {},
     "output_type": "display_data"
    },
    {
     "data": {
      "text/html": [
       "<pre style=\"white-space:pre;overflow-x:auto;line-height:normal;font-family:Menlo,'DejaVu Sans Mono',consolas,'Courier New',monospace\"><span style=\"font-weight: bold\"> Non-trainable params: </span><span style=\"color: #00af00; text-decoration-color: #00af00\">0</span> (0.00 B)\n",
       "</pre>\n"
      ],
      "text/plain": [
       "\u001b[1m Non-trainable params: \u001b[0m\u001b[38;5;34m0\u001b[0m (0.00 B)\n"
      ]
     },
     "metadata": {},
     "output_type": "display_data"
    }
   ],
   "source": [
    "tf.random.set_seed(10)\n",
    "\n",
    "users_nn_layers = Sequential([\n",
    "    Dense(256, activation=\"relu\"),\n",
    "    Dense(128, activation=\"relu\"),\n",
    "    Dense(output_size, activation=\"linear\")\n",
    "])\n",
    "\n",
    "movies_nn_layers = Sequential([\n",
    "    Dense(256, activation=\"relu\"),\n",
    "    Dense(128, activation=\"relu\"),\n",
    "    Dense(output_size, activation=\"linear\")\n",
    "])\n",
    "\n",
    "user_input_layer = Input(shape=(users_input_shape, ))\n",
    "users_model = users_nn_layers(user_input_layer)\n",
    "users_model = normalize(users_model, axis=1)\n",
    "\n",
    "movie_input_layer = Input(shape=(movies_input_shape, ))\n",
    "movies_model = movies_nn_layers(movie_input_layer)\n",
    "movies_model = normalize(movies_model, axis=1)\n",
    "\n",
    "output_layer = Dot(axes=1)([users_model, movies_model])\n",
    "\n",
    "model_recsys = Model([user_input_layer, movie_input_layer], output_layer)\n",
    "\n",
    "model_recsys.summary()"
   ]
  },
  {
   "cell_type": "code",
   "execution_count": 13,
   "id": "239b2e5c",
   "metadata": {},
   "outputs": [
    {
     "data": {
      "text/html": [
       "<pre style=\"white-space:pre;overflow-x:auto;line-height:normal;font-family:Menlo,'DejaVu Sans Mono',consolas,'Courier New',monospace\"><span style=\"font-weight: bold\">Model: \"functional_2\"</span>\n",
       "</pre>\n"
      ],
      "text/plain": [
       "\u001b[1mModel: \"functional_2\"\u001b[0m\n"
      ]
     },
     "metadata": {},
     "output_type": "display_data"
    },
    {
     "data": {
      "text/html": [
       "<pre style=\"white-space:pre;overflow-x:auto;line-height:normal;font-family:Menlo,'DejaVu Sans Mono',consolas,'Courier New',monospace\">┏━━━━━━━━━━━━━━━━━━━━━┳━━━━━━━━━━━━━━━━━━━┳━━━━━━━━━━━━┳━━━━━━━━━━━━━━━━━━━┓\n",
       "┃<span style=\"font-weight: bold\"> Layer (type)        </span>┃<span style=\"font-weight: bold\"> Output Shape      </span>┃<span style=\"font-weight: bold\">    Param # </span>┃<span style=\"font-weight: bold\"> Connected to      </span>┃\n",
       "┡━━━━━━━━━━━━━━━━━━━━━╇━━━━━━━━━━━━━━━━━━━╇━━━━━━━━━━━━╇━━━━━━━━━━━━━━━━━━━┩\n",
       "│ input_layer         │ (<span style=\"color: #00d7ff; text-decoration-color: #00d7ff\">None</span>, <span style=\"color: #00af00; text-decoration-color: #00af00\">20</span>)        │          <span style=\"color: #00af00; text-decoration-color: #00af00\">0</span> │ -                 │\n",
       "│ (<span style=\"color: #0087ff; text-decoration-color: #0087ff\">InputLayer</span>)        │                   │            │                   │\n",
       "├─────────────────────┼───────────────────┼────────────┼───────────────────┤\n",
       "│ input_layer_2       │ (<span style=\"color: #00d7ff; text-decoration-color: #00d7ff\">None</span>, <span style=\"color: #00af00; text-decoration-color: #00af00\">22</span>)        │          <span style=\"color: #00af00; text-decoration-color: #00af00\">0</span> │ -                 │\n",
       "│ (<span style=\"color: #0087ff; text-decoration-color: #0087ff\">InputLayer</span>)        │                   │            │                   │\n",
       "├─────────────────────┼───────────────────┼────────────┼───────────────────┤\n",
       "│ sequential          │ (<span style=\"color: #00d7ff; text-decoration-color: #00d7ff\">None</span>, <span style=\"color: #00af00; text-decoration-color: #00af00\">32</span>)        │     <span style=\"color: #00af00; text-decoration-color: #00af00\">42,400</span> │ input_layer[<span style=\"color: #00af00; text-decoration-color: #00af00\">0</span>][<span style=\"color: #00af00; text-decoration-color: #00af00\">0</span>] │\n",
       "│ (<span style=\"color: #0087ff; text-decoration-color: #0087ff\">Sequential</span>)        │                   │            │                   │\n",
       "├─────────────────────┼───────────────────┼────────────┼───────────────────┤\n",
       "│ sequential_1        │ (<span style=\"color: #00d7ff; text-decoration-color: #00d7ff\">None</span>, <span style=\"color: #00af00; text-decoration-color: #00af00\">32</span>)        │     <span style=\"color: #00af00; text-decoration-color: #00af00\">42,912</span> │ input_layer_2[<span style=\"color: #00af00; text-decoration-color: #00af00\">0</span>]… │\n",
       "│ (<span style=\"color: #0087ff; text-decoration-color: #0087ff\">Sequential</span>)        │                   │            │                   │\n",
       "├─────────────────────┼───────────────────┼────────────┼───────────────────┤\n",
       "│ normalize           │ (<span style=\"color: #00d7ff; text-decoration-color: #00d7ff\">None</span>, <span style=\"color: #00af00; text-decoration-color: #00af00\">32</span>)        │          <span style=\"color: #00af00; text-decoration-color: #00af00\">0</span> │ sequential[<span style=\"color: #00af00; text-decoration-color: #00af00\">0</span>][<span style=\"color: #00af00; text-decoration-color: #00af00\">0</span>]  │\n",
       "│ (<span style=\"color: #0087ff; text-decoration-color: #0087ff\">Normalize</span>)         │                   │            │                   │\n",
       "├─────────────────────┼───────────────────┼────────────┼───────────────────┤\n",
       "│ normalize_1         │ (<span style=\"color: #00d7ff; text-decoration-color: #00d7ff\">None</span>, <span style=\"color: #00af00; text-decoration-color: #00af00\">32</span>)        │          <span style=\"color: #00af00; text-decoration-color: #00af00\">0</span> │ sequential_1[<span style=\"color: #00af00; text-decoration-color: #00af00\">0</span>][<span style=\"color: #00af00; text-decoration-color: #00af00\">…</span> │\n",
       "│ (<span style=\"color: #0087ff; text-decoration-color: #0087ff\">Normalize</span>)         │                   │            │                   │\n",
       "├─────────────────────┼───────────────────┼────────────┼───────────────────┤\n",
       "│ dot (<span style=\"color: #0087ff; text-decoration-color: #0087ff\">Dot</span>)           │ (<span style=\"color: #00d7ff; text-decoration-color: #00d7ff\">None</span>, <span style=\"color: #00af00; text-decoration-color: #00af00\">1</span>)         │          <span style=\"color: #00af00; text-decoration-color: #00af00\">0</span> │ normalize[<span style=\"color: #00af00; text-decoration-color: #00af00\">0</span>][<span style=\"color: #00af00; text-decoration-color: #00af00\">0</span>],  │\n",
       "│                     │                   │            │ normalize_1[<span style=\"color: #00af00; text-decoration-color: #00af00\">0</span>][<span style=\"color: #00af00; text-decoration-color: #00af00\">0</span>] │\n",
       "└─────────────────────┴───────────────────┴────────────┴───────────────────┘\n",
       "</pre>\n"
      ],
      "text/plain": [
       "┏━━━━━━━━━━━━━━━━━━━━━┳━━━━━━━━━━━━━━━━━━━┳━━━━━━━━━━━━┳━━━━━━━━━━━━━━━━━━━┓\n",
       "┃\u001b[1m \u001b[0m\u001b[1mLayer (type)       \u001b[0m\u001b[1m \u001b[0m┃\u001b[1m \u001b[0m\u001b[1mOutput Shape     \u001b[0m\u001b[1m \u001b[0m┃\u001b[1m \u001b[0m\u001b[1m   Param #\u001b[0m\u001b[1m \u001b[0m┃\u001b[1m \u001b[0m\u001b[1mConnected to     \u001b[0m\u001b[1m \u001b[0m┃\n",
       "┡━━━━━━━━━━━━━━━━━━━━━╇━━━━━━━━━━━━━━━━━━━╇━━━━━━━━━━━━╇━━━━━━━━━━━━━━━━━━━┩\n",
       "│ input_layer         │ (\u001b[38;5;45mNone\u001b[0m, \u001b[38;5;34m20\u001b[0m)        │          \u001b[38;5;34m0\u001b[0m │ -                 │\n",
       "│ (\u001b[38;5;33mInputLayer\u001b[0m)        │                   │            │                   │\n",
       "├─────────────────────┼───────────────────┼────────────┼───────────────────┤\n",
       "│ input_layer_2       │ (\u001b[38;5;45mNone\u001b[0m, \u001b[38;5;34m22\u001b[0m)        │          \u001b[38;5;34m0\u001b[0m │ -                 │\n",
       "│ (\u001b[38;5;33mInputLayer\u001b[0m)        │                   │            │                   │\n",
       "├─────────────────────┼───────────────────┼────────────┼───────────────────┤\n",
       "│ sequential          │ (\u001b[38;5;45mNone\u001b[0m, \u001b[38;5;34m32\u001b[0m)        │     \u001b[38;5;34m42,400\u001b[0m │ input_layer[\u001b[38;5;34m0\u001b[0m][\u001b[38;5;34m0\u001b[0m] │\n",
       "│ (\u001b[38;5;33mSequential\u001b[0m)        │                   │            │                   │\n",
       "├─────────────────────┼───────────────────┼────────────┼───────────────────┤\n",
       "│ sequential_1        │ (\u001b[38;5;45mNone\u001b[0m, \u001b[38;5;34m32\u001b[0m)        │     \u001b[38;5;34m42,912\u001b[0m │ input_layer_2[\u001b[38;5;34m0\u001b[0m]… │\n",
       "│ (\u001b[38;5;33mSequential\u001b[0m)        │                   │            │                   │\n",
       "├─────────────────────┼───────────────────┼────────────┼───────────────────┤\n",
       "│ normalize           │ (\u001b[38;5;45mNone\u001b[0m, \u001b[38;5;34m32\u001b[0m)        │          \u001b[38;5;34m0\u001b[0m │ sequential[\u001b[38;5;34m0\u001b[0m][\u001b[38;5;34m0\u001b[0m]  │\n",
       "│ (\u001b[38;5;33mNormalize\u001b[0m)         │                   │            │                   │\n",
       "├─────────────────────┼───────────────────┼────────────┼───────────────────┤\n",
       "│ normalize_1         │ (\u001b[38;5;45mNone\u001b[0m, \u001b[38;5;34m32\u001b[0m)        │          \u001b[38;5;34m0\u001b[0m │ sequential_1[\u001b[38;5;34m0\u001b[0m][\u001b[38;5;34m…\u001b[0m │\n",
       "│ (\u001b[38;5;33mNormalize\u001b[0m)         │                   │            │                   │\n",
       "├─────────────────────┼───────────────────┼────────────┼───────────────────┤\n",
       "│ dot (\u001b[38;5;33mDot\u001b[0m)           │ (\u001b[38;5;45mNone\u001b[0m, \u001b[38;5;34m1\u001b[0m)         │          \u001b[38;5;34m0\u001b[0m │ normalize[\u001b[38;5;34m0\u001b[0m][\u001b[38;5;34m0\u001b[0m],  │\n",
       "│                     │                   │            │ normalize_1[\u001b[38;5;34m0\u001b[0m][\u001b[38;5;34m0\u001b[0m] │\n",
       "└─────────────────────┴───────────────────┴────────────┴───────────────────┘\n"
      ]
     },
     "metadata": {},
     "output_type": "display_data"
    },
    {
     "data": {
      "text/html": [
       "<pre style=\"white-space:pre;overflow-x:auto;line-height:normal;font-family:Menlo,'DejaVu Sans Mono',consolas,'Courier New',monospace\"><span style=\"font-weight: bold\"> Total params: </span><span style=\"color: #00af00; text-decoration-color: #00af00\">85,312</span> (333.25 KB)\n",
       "</pre>\n"
      ],
      "text/plain": [
       "\u001b[1m Total params: \u001b[0m\u001b[38;5;34m85,312\u001b[0m (333.25 KB)\n"
      ]
     },
     "metadata": {},
     "output_type": "display_data"
    },
    {
     "data": {
      "text/html": [
       "<pre style=\"white-space:pre;overflow-x:auto;line-height:normal;font-family:Menlo,'DejaVu Sans Mono',consolas,'Courier New',monospace\"><span style=\"font-weight: bold\"> Trainable params: </span><span style=\"color: #00af00; text-decoration-color: #00af00\">85,312</span> (333.25 KB)\n",
       "</pre>\n"
      ],
      "text/plain": [
       "\u001b[1m Trainable params: \u001b[0m\u001b[38;5;34m85,312\u001b[0m (333.25 KB)\n"
      ]
     },
     "metadata": {},
     "output_type": "display_data"
    },
    {
     "data": {
      "text/html": [
       "<pre style=\"white-space:pre;overflow-x:auto;line-height:normal;font-family:Menlo,'DejaVu Sans Mono',consolas,'Courier New',monospace\"><span style=\"font-weight: bold\"> Non-trainable params: </span><span style=\"color: #00af00; text-decoration-color: #00af00\">0</span> (0.00 B)\n",
       "</pre>\n"
      ],
      "text/plain": [
       "\u001b[1m Non-trainable params: \u001b[0m\u001b[38;5;34m0\u001b[0m (0.00 B)\n"
      ]
     },
     "metadata": {},
     "output_type": "display_data"
    }
   ],
   "source": [
    "cost_fn = MeanSquaredError()\n",
    "optimizer = Adam(learning_rate=0.01)\n",
    "\n",
    "model_recsys.compile(optimizer=optimizer, loss = cost_fn)\n",
    "model_recsys.summary()"
   ]
  },
  {
   "cell_type": "code",
   "execution_count": 14,
   "id": "71d51b55",
   "metadata": {},
   "outputs": [
    {
     "name": "stdout",
     "output_type": "stream",
     "text": [
      "Epoch 1/30\n",
      "\u001b[1m2521/2521\u001b[0m \u001b[32m━━━━━━━━━━━━━━━━━━━━\u001b[0m\u001b[37m\u001b[0m \u001b[1m17s\u001b[0m 5ms/step - loss: 0.0374\n",
      "Epoch 2/30\n",
      "\u001b[1m2521/2521\u001b[0m \u001b[32m━━━━━━━━━━━━━━━━━━━━\u001b[0m\u001b[37m\u001b[0m \u001b[1m9s\u001b[0m 3ms/step - loss: 0.0325\n",
      "Epoch 3/30\n",
      "\u001b[1m2521/2521\u001b[0m \u001b[32m━━━━━━━━━━━━━━━━━━━━\u001b[0m\u001b[37m\u001b[0m \u001b[1m6s\u001b[0m 2ms/step - loss: 0.0319\n",
      "Epoch 4/30\n",
      "\u001b[1m2521/2521\u001b[0m \u001b[32m━━━━━━━━━━━━━━━━━━━━\u001b[0m\u001b[37m\u001b[0m \u001b[1m6s\u001b[0m 2ms/step - loss: 0.0313\n",
      "Epoch 5/30\n",
      "\u001b[1m2521/2521\u001b[0m \u001b[32m━━━━━━━━━━━━━━━━━━━━\u001b[0m\u001b[37m\u001b[0m \u001b[1m5s\u001b[0m 2ms/step - loss: 0.0308\n",
      "Epoch 6/30\n",
      "\u001b[1m2521/2521\u001b[0m \u001b[32m━━━━━━━━━━━━━━━━━━━━\u001b[0m\u001b[37m\u001b[0m \u001b[1m5s\u001b[0m 2ms/step - loss: 0.0304\n",
      "Epoch 7/30\n",
      "\u001b[1m2521/2521\u001b[0m \u001b[32m━━━━━━━━━━━━━━━━━━━━\u001b[0m\u001b[37m\u001b[0m \u001b[1m5s\u001b[0m 2ms/step - loss: 0.0300\n",
      "Epoch 8/30\n",
      "\u001b[1m2521/2521\u001b[0m \u001b[32m━━━━━━━━━━━━━━━━━━━━\u001b[0m\u001b[37m\u001b[0m \u001b[1m6s\u001b[0m 2ms/step - loss: 0.0297\n",
      "Epoch 9/30\n",
      "\u001b[1m2521/2521\u001b[0m \u001b[32m━━━━━━━━━━━━━━━━━━━━\u001b[0m\u001b[37m\u001b[0m \u001b[1m6s\u001b[0m 2ms/step - loss: 0.0294\n",
      "Epoch 10/30\n",
      "\u001b[1m2521/2521\u001b[0m \u001b[32m━━━━━━━━━━━━━━━━━━━━\u001b[0m\u001b[37m\u001b[0m \u001b[1m5s\u001b[0m 2ms/step - loss: 0.0292\n",
      "Epoch 11/30\n",
      "\u001b[1m2521/2521\u001b[0m \u001b[32m━━━━━━━━━━━━━━━━━━━━\u001b[0m\u001b[37m\u001b[0m \u001b[1m6s\u001b[0m 2ms/step - loss: 0.0289\n",
      "Epoch 12/30\n",
      "\u001b[1m2521/2521\u001b[0m \u001b[32m━━━━━━━━━━━━━━━━━━━━\u001b[0m\u001b[37m\u001b[0m \u001b[1m10s\u001b[0m 2ms/step - loss: 0.0287\n",
      "Epoch 13/30\n",
      "\u001b[1m2521/2521\u001b[0m \u001b[32m━━━━━━━━━━━━━━━━━━━━\u001b[0m\u001b[37m\u001b[0m \u001b[1m6s\u001b[0m 2ms/step - loss: 0.0285\n",
      "Epoch 14/30\n",
      "\u001b[1m2521/2521\u001b[0m \u001b[32m━━━━━━━━━━━━━━━━━━━━\u001b[0m\u001b[37m\u001b[0m \u001b[1m6s\u001b[0m 2ms/step - loss: 0.0284\n",
      "Epoch 15/30\n",
      "\u001b[1m2521/2521\u001b[0m \u001b[32m━━━━━━━━━━━━━━━━━━━━\u001b[0m\u001b[37m\u001b[0m \u001b[1m6s\u001b[0m 2ms/step - loss: 0.0282\n",
      "Epoch 16/30\n",
      "\u001b[1m2521/2521\u001b[0m \u001b[32m━━━━━━━━━━━━━━━━━━━━\u001b[0m\u001b[37m\u001b[0m \u001b[1m6s\u001b[0m 2ms/step - loss: 0.0281\n",
      "Epoch 17/30\n",
      "\u001b[1m2521/2521\u001b[0m \u001b[32m━━━━━━━━━━━━━━━━━━━━\u001b[0m\u001b[37m\u001b[0m \u001b[1m6s\u001b[0m 2ms/step - loss: 0.0280\n",
      "Epoch 18/30\n",
      "\u001b[1m2521/2521\u001b[0m \u001b[32m━━━━━━━━━━━━━━━━━━━━\u001b[0m\u001b[37m\u001b[0m \u001b[1m11s\u001b[0m 3ms/step - loss: 0.0278\n",
      "Epoch 19/30\n",
      "\u001b[1m2521/2521\u001b[0m \u001b[32m━━━━━━━━━━━━━━━━━━━━\u001b[0m\u001b[37m\u001b[0m \u001b[1m6s\u001b[0m 2ms/step - loss: 0.0277\n",
      "Epoch 20/30\n",
      "\u001b[1m2521/2521\u001b[0m \u001b[32m━━━━━━━━━━━━━━━━━━━━\u001b[0m\u001b[37m\u001b[0m \u001b[1m6s\u001b[0m 2ms/step - loss: 0.0276\n",
      "Epoch 21/30\n",
      "\u001b[1m2521/2521\u001b[0m \u001b[32m━━━━━━━━━━━━━━━━━━━━\u001b[0m\u001b[37m\u001b[0m \u001b[1m10s\u001b[0m 2ms/step - loss: 0.0275\n",
      "Epoch 22/30\n",
      "\u001b[1m2521/2521\u001b[0m \u001b[32m━━━━━━━━━━━━━━━━━━━━\u001b[0m\u001b[37m\u001b[0m \u001b[1m6s\u001b[0m 2ms/step - loss: 0.0274\n",
      "Epoch 23/30\n",
      "\u001b[1m2521/2521\u001b[0m \u001b[32m━━━━━━━━━━━━━━━━━━━━\u001b[0m\u001b[37m\u001b[0m \u001b[1m6s\u001b[0m 2ms/step - loss: 0.0273\n",
      "Epoch 24/30\n",
      "\u001b[1m2521/2521\u001b[0m \u001b[32m━━━━━━━━━━━━━━━━━━━━\u001b[0m\u001b[37m\u001b[0m \u001b[1m7s\u001b[0m 3ms/step - loss: 0.0272\n",
      "Epoch 25/30\n",
      "\u001b[1m2521/2521\u001b[0m \u001b[32m━━━━━━━━━━━━━━━━━━━━\u001b[0m\u001b[37m\u001b[0m \u001b[1m9s\u001b[0m 2ms/step - loss: 0.0271\n",
      "Epoch 26/30\n",
      "\u001b[1m2521/2521\u001b[0m \u001b[32m━━━━━━━━━━━━━━━━━━━━\u001b[0m\u001b[37m\u001b[0m \u001b[1m6s\u001b[0m 2ms/step - loss: 0.0270\n",
      "Epoch 27/30\n",
      "\u001b[1m2521/2521\u001b[0m \u001b[32m━━━━━━━━━━━━━━━━━━━━\u001b[0m\u001b[37m\u001b[0m \u001b[1m6s\u001b[0m 2ms/step - loss: 0.0269\n",
      "Epoch 28/30\n",
      "\u001b[1m2521/2521\u001b[0m \u001b[32m━━━━━━━━━━━━━━━━━━━━\u001b[0m\u001b[37m\u001b[0m \u001b[1m6s\u001b[0m 2ms/step - loss: 0.0268\n",
      "Epoch 29/30\n",
      "\u001b[1m2521/2521\u001b[0m \u001b[32m━━━━━━━━━━━━━━━━━━━━\u001b[0m\u001b[37m\u001b[0m \u001b[1m6s\u001b[0m 2ms/step - loss: 0.0267\n",
      "Epoch 30/30\n",
      "\u001b[1m2521/2521\u001b[0m \u001b[32m━━━━━━━━━━━━━━━━━━━━\u001b[0m\u001b[37m\u001b[0m \u001b[1m6s\u001b[0m 2ms/step - loss: 0.0266\n"
     ]
    },
    {
     "data": {
      "text/plain": [
       "<keras.src.callbacks.history.History at 0x2f103b19c10>"
      ]
     },
     "execution_count": 14,
     "metadata": {},
     "output_type": "execute_result"
    }
   ],
   "source": [
    "model_recsys.fit([users_train, movies_train], ratings_train, epochs=30)"
   ]
  },
  {
   "cell_type": "code",
   "execution_count": 15,
   "id": "5486e037",
   "metadata": {},
   "outputs": [
    {
     "name": "stdout",
     "output_type": "stream",
     "text": [
      "\u001b[1m631/631\u001b[0m \u001b[32m━━━━━━━━━━━━━━━━━━━━\u001b[0m\u001b[37m\u001b[0m \u001b[1m1s\u001b[0m 1ms/step - loss: 0.0294\n"
     ]
    },
    {
     "data": {
      "text/plain": [
       "0.029710063710808754"
      ]
     },
     "execution_count": 15,
     "metadata": {},
     "output_type": "execute_result"
    }
   ],
   "source": [
    "model_recsys.evaluate([users_test, movies_test], ratings_test)"
   ]
  },
  {
   "cell_type": "code",
   "execution_count": 16,
   "id": "7cef1e79",
   "metadata": {},
   "outputs": [
    {
     "data": {
      "text/html": [
       "<pre style=\"white-space:pre;overflow-x:auto;line-height:normal;font-family:Menlo,'DejaVu Sans Mono',consolas,'Courier New',monospace\"><span style=\"font-weight: bold\">Model: \"functional_3\"</span>\n",
       "</pre>\n"
      ],
      "text/plain": [
       "\u001b[1mModel: \"functional_3\"\u001b[0m\n"
      ]
     },
     "metadata": {},
     "output_type": "display_data"
    },
    {
     "data": {
      "text/html": [
       "<pre style=\"white-space:pre;overflow-x:auto;line-height:normal;font-family:Menlo,'DejaVu Sans Mono',consolas,'Courier New',monospace\">┏━━━━━━━━━━━━━━━━━━━━━━━━━━━━━━━━━┳━━━━━━━━━━━━━━━━━━━━━━━━┳━━━━━━━━━━━━━━━┓\n",
       "┃<span style=\"font-weight: bold\"> Layer (type)                    </span>┃<span style=\"font-weight: bold\"> Output Shape           </span>┃<span style=\"font-weight: bold\">       Param # </span>┃\n",
       "┡━━━━━━━━━━━━━━━━━━━━━━━━━━━━━━━━━╇━━━━━━━━━━━━━━━━━━━━━━━━╇━━━━━━━━━━━━━━━┩\n",
       "│ input_layer_4 (<span style=\"color: #0087ff; text-decoration-color: #0087ff\">InputLayer</span>)      │ (<span style=\"color: #00d7ff; text-decoration-color: #00d7ff\">None</span>, <span style=\"color: #00af00; text-decoration-color: #00af00\">22</span>)             │             <span style=\"color: #00af00; text-decoration-color: #00af00\">0</span> │\n",
       "├─────────────────────────────────┼────────────────────────┼───────────────┤\n",
       "│ sequential_1 (<span style=\"color: #0087ff; text-decoration-color: #0087ff\">Sequential</span>)       │ (<span style=\"color: #00d7ff; text-decoration-color: #00d7ff\">None</span>, <span style=\"color: #00af00; text-decoration-color: #00af00\">32</span>)             │        <span style=\"color: #00af00; text-decoration-color: #00af00\">42,912</span> │\n",
       "├─────────────────────────────────┼────────────────────────┼───────────────┤\n",
       "│ normalize_2 (<span style=\"color: #0087ff; text-decoration-color: #0087ff\">Normalize</span>)         │ (<span style=\"color: #00d7ff; text-decoration-color: #00d7ff\">None</span>, <span style=\"color: #00af00; text-decoration-color: #00af00\">32</span>)             │             <span style=\"color: #00af00; text-decoration-color: #00af00\">0</span> │\n",
       "└─────────────────────────────────┴────────────────────────┴───────────────┘\n",
       "</pre>\n"
      ],
      "text/plain": [
       "┏━━━━━━━━━━━━━━━━━━━━━━━━━━━━━━━━━┳━━━━━━━━━━━━━━━━━━━━━━━━┳━━━━━━━━━━━━━━━┓\n",
       "┃\u001b[1m \u001b[0m\u001b[1mLayer (type)                   \u001b[0m\u001b[1m \u001b[0m┃\u001b[1m \u001b[0m\u001b[1mOutput Shape          \u001b[0m\u001b[1m \u001b[0m┃\u001b[1m \u001b[0m\u001b[1m      Param #\u001b[0m\u001b[1m \u001b[0m┃\n",
       "┡━━━━━━━━━━━━━━━━━━━━━━━━━━━━━━━━━╇━━━━━━━━━━━━━━━━━━━━━━━━╇━━━━━━━━━━━━━━━┩\n",
       "│ input_layer_4 (\u001b[38;5;33mInputLayer\u001b[0m)      │ (\u001b[38;5;45mNone\u001b[0m, \u001b[38;5;34m22\u001b[0m)             │             \u001b[38;5;34m0\u001b[0m │\n",
       "├─────────────────────────────────┼────────────────────────┼───────────────┤\n",
       "│ sequential_1 (\u001b[38;5;33mSequential\u001b[0m)       │ (\u001b[38;5;45mNone\u001b[0m, \u001b[38;5;34m32\u001b[0m)             │        \u001b[38;5;34m42,912\u001b[0m │\n",
       "├─────────────────────────────────┼────────────────────────┼───────────────┤\n",
       "│ normalize_2 (\u001b[38;5;33mNormalize\u001b[0m)         │ (\u001b[38;5;45mNone\u001b[0m, \u001b[38;5;34m32\u001b[0m)             │             \u001b[38;5;34m0\u001b[0m │\n",
       "└─────────────────────────────────┴────────────────────────┴───────────────┘\n"
      ]
     },
     "metadata": {},
     "output_type": "display_data"
    },
    {
     "data": {
      "text/html": [
       "<pre style=\"white-space:pre;overflow-x:auto;line-height:normal;font-family:Menlo,'DejaVu Sans Mono',consolas,'Courier New',monospace\"><span style=\"font-weight: bold\"> Total params: </span><span style=\"color: #00af00; text-decoration-color: #00af00\">42,912</span> (167.62 KB)\n",
       "</pre>\n"
      ],
      "text/plain": [
       "\u001b[1m Total params: \u001b[0m\u001b[38;5;34m42,912\u001b[0m (167.62 KB)\n"
      ]
     },
     "metadata": {},
     "output_type": "display_data"
    },
    {
     "data": {
      "text/html": [
       "<pre style=\"white-space:pre;overflow-x:auto;line-height:normal;font-family:Menlo,'DejaVu Sans Mono',consolas,'Courier New',monospace\"><span style=\"font-weight: bold\"> Trainable params: </span><span style=\"color: #00af00; text-decoration-color: #00af00\">42,912</span> (167.62 KB)\n",
       "</pre>\n"
      ],
      "text/plain": [
       "\u001b[1m Trainable params: \u001b[0m\u001b[38;5;34m42,912\u001b[0m (167.62 KB)\n"
      ]
     },
     "metadata": {},
     "output_type": "display_data"
    },
    {
     "data": {
      "text/html": [
       "<pre style=\"white-space:pre;overflow-x:auto;line-height:normal;font-family:Menlo,'DejaVu Sans Mono',consolas,'Courier New',monospace\"><span style=\"font-weight: bold\"> Non-trainable params: </span><span style=\"color: #00af00; text-decoration-color: #00af00\">0</span> (0.00 B)\n",
       "</pre>\n"
      ],
      "text/plain": [
       "\u001b[1m Non-trainable params: \u001b[0m\u001b[38;5;34m0\u001b[0m (0.00 B)\n"
      ]
     },
     "metadata": {},
     "output_type": "display_data"
    }
   ],
   "source": [
    "movies_inf_layer = Input(shape=(movies_input_shape, ))\n",
    "me_model = movies_nn_layers(movies_inf_layer)\n",
    "me_model = normalize(me_model, axis=1)\n",
    "movies_encoder = Model(movies_inf_layer, me_model)\n",
    "movies_encoder.summary()"
   ]
  },
  {
   "cell_type": "code",
   "execution_count": 17,
   "id": "85ac370e",
   "metadata": {},
   "outputs": [
    {
     "data": {
      "text/html": [
       "<pre style=\"white-space:pre;overflow-x:auto;line-height:normal;font-family:Menlo,'DejaVu Sans Mono',consolas,'Courier New',monospace\"><span style=\"font-weight: bold\">Model: \"functional_4\"</span>\n",
       "</pre>\n"
      ],
      "text/plain": [
       "\u001b[1mModel: \"functional_4\"\u001b[0m\n"
      ]
     },
     "metadata": {},
     "output_type": "display_data"
    },
    {
     "data": {
      "text/html": [
       "<pre style=\"white-space:pre;overflow-x:auto;line-height:normal;font-family:Menlo,'DejaVu Sans Mono',consolas,'Courier New',monospace\">┏━━━━━━━━━━━━━━━━━━━━━━━━━━━━━━━━━┳━━━━━━━━━━━━━━━━━━━━━━━━┳━━━━━━━━━━━━━━━┓\n",
       "┃<span style=\"font-weight: bold\"> Layer (type)                    </span>┃<span style=\"font-weight: bold\"> Output Shape           </span>┃<span style=\"font-weight: bold\">       Param # </span>┃\n",
       "┡━━━━━━━━━━━━━━━━━━━━━━━━━━━━━━━━━╇━━━━━━━━━━━━━━━━━━━━━━━━╇━━━━━━━━━━━━━━━┩\n",
       "│ input_layer_5 (<span style=\"color: #0087ff; text-decoration-color: #0087ff\">InputLayer</span>)      │ (<span style=\"color: #00d7ff; text-decoration-color: #00d7ff\">None</span>, <span style=\"color: #00af00; text-decoration-color: #00af00\">20</span>)             │             <span style=\"color: #00af00; text-decoration-color: #00af00\">0</span> │\n",
       "├─────────────────────────────────┼────────────────────────┼───────────────┤\n",
       "│ sequential (<span style=\"color: #0087ff; text-decoration-color: #0087ff\">Sequential</span>)         │ (<span style=\"color: #00d7ff; text-decoration-color: #00d7ff\">None</span>, <span style=\"color: #00af00; text-decoration-color: #00af00\">32</span>)             │        <span style=\"color: #00af00; text-decoration-color: #00af00\">42,400</span> │\n",
       "├─────────────────────────────────┼────────────────────────┼───────────────┤\n",
       "│ normalize_3 (<span style=\"color: #0087ff; text-decoration-color: #0087ff\">Normalize</span>)         │ (<span style=\"color: #00d7ff; text-decoration-color: #00d7ff\">None</span>, <span style=\"color: #00af00; text-decoration-color: #00af00\">32</span>)             │             <span style=\"color: #00af00; text-decoration-color: #00af00\">0</span> │\n",
       "└─────────────────────────────────┴────────────────────────┴───────────────┘\n",
       "</pre>\n"
      ],
      "text/plain": [
       "┏━━━━━━━━━━━━━━━━━━━━━━━━━━━━━━━━━┳━━━━━━━━━━━━━━━━━━━━━━━━┳━━━━━━━━━━━━━━━┓\n",
       "┃\u001b[1m \u001b[0m\u001b[1mLayer (type)                   \u001b[0m\u001b[1m \u001b[0m┃\u001b[1m \u001b[0m\u001b[1mOutput Shape          \u001b[0m\u001b[1m \u001b[0m┃\u001b[1m \u001b[0m\u001b[1m      Param #\u001b[0m\u001b[1m \u001b[0m┃\n",
       "┡━━━━━━━━━━━━━━━━━━━━━━━━━━━━━━━━━╇━━━━━━━━━━━━━━━━━━━━━━━━╇━━━━━━━━━━━━━━━┩\n",
       "│ input_layer_5 (\u001b[38;5;33mInputLayer\u001b[0m)      │ (\u001b[38;5;45mNone\u001b[0m, \u001b[38;5;34m20\u001b[0m)             │             \u001b[38;5;34m0\u001b[0m │\n",
       "├─────────────────────────────────┼────────────────────────┼───────────────┤\n",
       "│ sequential (\u001b[38;5;33mSequential\u001b[0m)         │ (\u001b[38;5;45mNone\u001b[0m, \u001b[38;5;34m32\u001b[0m)             │        \u001b[38;5;34m42,400\u001b[0m │\n",
       "├─────────────────────────────────┼────────────────────────┼───────────────┤\n",
       "│ normalize_3 (\u001b[38;5;33mNormalize\u001b[0m)         │ (\u001b[38;5;45mNone\u001b[0m, \u001b[38;5;34m32\u001b[0m)             │             \u001b[38;5;34m0\u001b[0m │\n",
       "└─────────────────────────────────┴────────────────────────┴───────────────┘\n"
      ]
     },
     "metadata": {},
     "output_type": "display_data"
    },
    {
     "data": {
      "text/html": [
       "<pre style=\"white-space:pre;overflow-x:auto;line-height:normal;font-family:Menlo,'DejaVu Sans Mono',consolas,'Courier New',monospace\"><span style=\"font-weight: bold\"> Total params: </span><span style=\"color: #00af00; text-decoration-color: #00af00\">42,400</span> (165.62 KB)\n",
       "</pre>\n"
      ],
      "text/plain": [
       "\u001b[1m Total params: \u001b[0m\u001b[38;5;34m42,400\u001b[0m (165.62 KB)\n"
      ]
     },
     "metadata": {},
     "output_type": "display_data"
    },
    {
     "data": {
      "text/html": [
       "<pre style=\"white-space:pre;overflow-x:auto;line-height:normal;font-family:Menlo,'DejaVu Sans Mono',consolas,'Courier New',monospace\"><span style=\"font-weight: bold\"> Trainable params: </span><span style=\"color: #00af00; text-decoration-color: #00af00\">42,400</span> (165.62 KB)\n",
       "</pre>\n"
      ],
      "text/plain": [
       "\u001b[1m Trainable params: \u001b[0m\u001b[38;5;34m42,400\u001b[0m (165.62 KB)\n"
      ]
     },
     "metadata": {},
     "output_type": "display_data"
    },
    {
     "data": {
      "text/html": [
       "<pre style=\"white-space:pre;overflow-x:auto;line-height:normal;font-family:Menlo,'DejaVu Sans Mono',consolas,'Courier New',monospace\"><span style=\"font-weight: bold\"> Non-trainable params: </span><span style=\"color: #00af00; text-decoration-color: #00af00\">0</span> (0.00 B)\n",
       "</pre>\n"
      ],
      "text/plain": [
       "\u001b[1m Non-trainable params: \u001b[0m\u001b[38;5;34m0\u001b[0m (0.00 B)\n"
      ]
     },
     "metadata": {},
     "output_type": "display_data"
    }
   ],
   "source": [
    "users_inf_layer = Input(shape=(users_input_shape, ))\n",
    "ue_model = users_nn_layers(users_inf_layer)\n",
    "ue_model = normalize(ue_model, axis=1)\n",
    "users_encoder = Model(users_inf_layer, ue_model)\n",
    "users_encoder.summary()"
   ]
  },
  {
   "cell_type": "code",
   "execution_count": 18,
   "id": "59b31b25",
   "metadata": {},
   "outputs": [],
   "source": [
    "## Saving the model\n",
    "\n",
    "model_recsys.save(\"models/main_model.keras\")\n",
    "movies_encoder.save(\"models/movies_encoder.keras\")\n",
    "users_encoder.save(\"models/users_encoder.keras\")"
   ]
  },
  {
   "cell_type": "code",
   "execution_count": 19,
   "id": "1786e586",
   "metadata": {},
   "outputs": [],
   "source": [
    "## Saving the Scaling Objects\n",
    "\n",
    "import pickle\n",
    "\n",
    "scalers = {\n",
    "    \"users\": users_scaler,\n",
    "    \"movies\": movies_scaler,\n",
    "    \"ratings\": ratings_scaler\n",
    "}\n",
    "\n",
    "with open(\"models/scalers.pickle\", \"wb\") as file:\n",
    "    pickle.dump(scalers, file)"
   ]
  },
  {
   "cell_type": "markdown",
   "id": "c430a155",
   "metadata": {},
   "source": [
    "## Inference"
   ]
  },
  {
   "cell_type": "markdown",
   "id": "b9d0e112",
   "metadata": {},
   "source": [
    "### New User"
   ]
  },
  {
   "cell_type": "code",
   "execution_count": 20,
   "id": "594de0e0",
   "metadata": {},
   "outputs": [
    {
     "name": "stdout",
     "output_type": "stream",
     "text": [
      "<class 'pandas.core.frame.DataFrame'>\n",
      "RangeIndex: 100836 entries, 0 to 100835\n",
      "Data columns (total 20 columns):\n",
      " #   Column       Non-Null Count   Dtype  \n",
      "---  ------       --------------   -----  \n",
      " 0   War          100836 non-null  float64\n",
      " 1   Thriller     100836 non-null  float64\n",
      " 2   Sci-Fi       100836 non-null  float64\n",
      " 3   Documentary  100836 non-null  float64\n",
      " 4   Romance      100836 non-null  float64\n",
      " 5   Horror       100836 non-null  float64\n",
      " 6   Western      100836 non-null  float64\n",
      " 7   Film-Noir    100836 non-null  float64\n",
      " 8   Adventure    100836 non-null  float64\n",
      " 9   Action       100836 non-null  float64\n",
      " 10  Musical      100836 non-null  float64\n",
      " 11  Mystery      100836 non-null  float64\n",
      " 12  Crime        100836 non-null  float64\n",
      " 13  Fantasy      100836 non-null  float64\n",
      " 14  Unknown      100836 non-null  float64\n",
      " 15  IMAX         100836 non-null  float64\n",
      " 16  Comedy       100836 non-null  float64\n",
      " 17  Animation    100836 non-null  float64\n",
      " 18  Children     100836 non-null  float64\n",
      " 19  Drama        100836 non-null  float64\n",
      "dtypes: float64(20)\n",
      "memory usage: 15.4 MB\n"
     ]
    }
   ],
   "source": [
    "users_data.info()"
   ]
  },
  {
   "cell_type": "code",
   "execution_count": 21,
   "id": "fedd2fff",
   "metadata": {},
   "outputs": [
    {
     "data": {
      "text/plain": [
       "['War',\n",
       " 'Thriller',\n",
       " 'Sci-Fi',\n",
       " 'Documentary',\n",
       " 'Romance',\n",
       " 'Horror',\n",
       " 'Western',\n",
       " 'Film-Noir',\n",
       " 'Adventure',\n",
       " 'Action',\n",
       " 'Musical',\n",
       " 'Mystery',\n",
       " 'Crime',\n",
       " 'Fantasy',\n",
       " 'Unknown',\n",
       " 'IMAX',\n",
       " 'Comedy',\n",
       " 'Animation',\n",
       " 'Children',\n",
       " 'Drama']"
      ]
     },
     "execution_count": 21,
     "metadata": {},
     "output_type": "execute_result"
    }
   ],
   "source": [
    "genres = list(users_data.columns)\n",
    "genres"
   ]
  },
  {
   "cell_type": "code",
   "execution_count": 22,
   "id": "4061c2eb",
   "metadata": {},
   "outputs": [],
   "source": [
    "movies = pd.read_csv(\"Data/MovieLens/ml-latest-small/movies.csv\")\n",
    "ratings = pd.read_csv(\"Data/MovieLens/ml-latest-small/ratings.csv\")"
   ]
  },
  {
   "cell_type": "code",
   "execution_count": 23,
   "id": "16a45639",
   "metadata": {},
   "outputs": [],
   "source": [
    "def fetch_movie_row(movie, user_ratings, ratings_row, ratings_count):\n",
    "    movie_id = movie[\"movieId\"]\n",
    "    movie_genres = movie[\"genres\"].split(\"|\")\n",
    "    rating_row = user_ratings.loc[user_ratings[\"movieId\"] == movie_id]\n",
    "    curr_rating = rating_row[\"rating\"]\n",
    "    for genre in movie_genres:\n",
    "        idx = genres.index(genre)\n",
    "        ratings_row[idx] += curr_rating\n",
    "        ratings_count[idx] += 1\n",
    "\n",
    "def calculate_user_vector(user_ratings = None, uid = None):\n",
    "    if(user_ratings is None):\n",
    "        user_ratings = ratings.loc[ratings[\"userId\"] == uid]\n",
    "    rated_movies = movies.loc[movies[\"movieId\"].isin(user_ratings[\"movieId\"])]\n",
    "    ratings_arr_row = np.zeros(users_data.shape[1])\n",
    "    ratings_count_arr = np.zeros(users_data.shape[1])\n",
    "    rated_movies.apply(lambda x: fetch_movie_row(x, user_ratings, ratings_arr_row, ratings_count_arr), axis=1)\n",
    "    # print(\"Ratings Row:\", ratings_arr_row)\n",
    "    # print(\"Ratings Count:\", ratings_count_arr)\n",
    "    result = np.divide(ratings_arr_row, ratings_count_arr, out=np.zeros(users_data.shape[1]), where=ratings_count_arr!=0)\n",
    "    # print(\"Calculation:\", result)\n",
    "    return np.round(result, 2)"
   ]
  },
  {
   "cell_type": "code",
   "execution_count": 48,
   "id": "7b31b019",
   "metadata": {},
   "outputs": [
    {
     "data": {
      "text/html": [
       "<div>\n",
       "<style scoped>\n",
       "    .dataframe tbody tr th:only-of-type {\n",
       "        vertical-align: middle;\n",
       "    }\n",
       "\n",
       "    .dataframe tbody tr th {\n",
       "        vertical-align: top;\n",
       "    }\n",
       "\n",
       "    .dataframe thead th {\n",
       "        text-align: right;\n",
       "    }\n",
       "</style>\n",
       "<table border=\"1\" class=\"dataframe\">\n",
       "  <thead>\n",
       "    <tr style=\"text-align: right;\">\n",
       "      <th></th>\n",
       "      <th>userId</th>\n",
       "      <th>movieId</th>\n",
       "      <th>rating</th>\n",
       "      <th>timestamp</th>\n",
       "    </tr>\n",
       "  </thead>\n",
       "  <tbody>\n",
       "    <tr>\n",
       "      <th>0</th>\n",
       "      <td>-1</td>\n",
       "      <td>89745</td>\n",
       "      <td>4.5</td>\n",
       "      <td>1742033128947</td>\n",
       "    </tr>\n",
       "    <tr>\n",
       "      <th>1</th>\n",
       "      <td>-1</td>\n",
       "      <td>122892</td>\n",
       "      <td>3.5</td>\n",
       "      <td>1742033128947</td>\n",
       "    </tr>\n",
       "    <tr>\n",
       "      <th>2</th>\n",
       "      <td>-1</td>\n",
       "      <td>122912</td>\n",
       "      <td>4.0</td>\n",
       "      <td>1742033128947</td>\n",
       "    </tr>\n",
       "    <tr>\n",
       "      <th>3</th>\n",
       "      <td>-1</td>\n",
       "      <td>136864</td>\n",
       "      <td>4.0</td>\n",
       "      <td>1742033128947</td>\n",
       "    </tr>\n",
       "    <tr>\n",
       "      <th>4</th>\n",
       "      <td>-1</td>\n",
       "      <td>59315</td>\n",
       "      <td>4.0</td>\n",
       "      <td>1742033128947</td>\n",
       "    </tr>\n",
       "    <tr>\n",
       "      <th>5</th>\n",
       "      <td>-1</td>\n",
       "      <td>102125</td>\n",
       "      <td>3.5</td>\n",
       "      <td>1742033128947</td>\n",
       "    </tr>\n",
       "    <tr>\n",
       "      <th>6</th>\n",
       "      <td>-1</td>\n",
       "      <td>122904</td>\n",
       "      <td>4.5</td>\n",
       "      <td>1742033128947</td>\n",
       "    </tr>\n",
       "    <tr>\n",
       "      <th>7</th>\n",
       "      <td>-1</td>\n",
       "      <td>99114</td>\n",
       "      <td>4.0</td>\n",
       "      <td>1742033128947</td>\n",
       "    </tr>\n",
       "    <tr>\n",
       "      <th>8</th>\n",
       "      <td>-1</td>\n",
       "      <td>68157</td>\n",
       "      <td>4.5</td>\n",
       "      <td>1742033128947</td>\n",
       "    </tr>\n",
       "    <tr>\n",
       "      <th>9</th>\n",
       "      <td>-1</td>\n",
       "      <td>162082</td>\n",
       "      <td>4.0</td>\n",
       "      <td>1742033128947</td>\n",
       "    </tr>\n",
       "    <tr>\n",
       "      <th>10</th>\n",
       "      <td>-1</td>\n",
       "      <td>157340</td>\n",
       "      <td>4.0</td>\n",
       "      <td>1742033128947</td>\n",
       "    </tr>\n",
       "    <tr>\n",
       "      <th>11</th>\n",
       "      <td>-1</td>\n",
       "      <td>149406</td>\n",
       "      <td>4.0</td>\n",
       "      <td>1742033128947</td>\n",
       "    </tr>\n",
       "  </tbody>\n",
       "</table>\n",
       "</div>"
      ],
      "text/plain": [
       "    userId  movieId  rating      timestamp\n",
       "0       -1    89745     4.5  1742033128947\n",
       "1       -1   122892     3.5  1742033128947\n",
       "2       -1   122912     4.0  1742033128947\n",
       "3       -1   136864     4.0  1742033128947\n",
       "4       -1    59315     4.0  1742033128947\n",
       "5       -1   102125     3.5  1742033128947\n",
       "6       -1   122904     4.5  1742033128947\n",
       "7       -1    99114     4.0  1742033128947\n",
       "8       -1    68157     4.5  1742033128947\n",
       "9       -1   162082     4.0  1742033128947\n",
       "10      -1   157340     4.0  1742033128947\n",
       "11      -1   149406     4.0  1742033128947"
      ]
     },
     "execution_count": 48,
     "metadata": {},
     "output_type": "execute_result"
    }
   ],
   "source": [
    "import time\n",
    "\n",
    "new_user_ratings = [\n",
    "    [-1, 89745, 4.5, int(time.time() * 1000)],\n",
    "    [-1, 122892, 3.5, int(time.time() * 1000)],\n",
    "    [-1, 122912, 4.0, int(time.time() * 1000)],\n",
    "    [-1, 136864, 4.0, int(time.time() * 1000)],\n",
    "    [-1, 59315, 4.0, int(time.time() * 1000)],\n",
    "    [-1, 102125, 3.5, int(time.time() * 1000)],\n",
    "    [-1, 122904, 4.5, int(time.time() * 1000)],\n",
    "    [-1, 99114, 4.0, int(time.time() * 1000)],\n",
    "    [-1, 68157, 4.5, int(time.time() * 1000)],\n",
    "    [-1, 162082, 4.0, int(time.time() * 1000)],\n",
    "    [-1, 157340, 4.0, int(time.time() * 1000)],\n",
    "    [-1, 149406, 4.0, int(time.time() * 1000)],\n",
    "]\n",
    "\n",
    "new_user_ratings = pd.DataFrame(new_user_ratings, columns=ratings.columns)\n",
    "new_user_ratings"
   ]
  },
  {
   "cell_type": "code",
   "execution_count": 49,
   "id": "d079321d",
   "metadata": {},
   "outputs": [
    {
     "name": "stderr",
     "output_type": "stream",
     "text": [
      "C:\\Users\\Loges\\AppData\\Local\\Temp\\ipykernel_17032\\4103752647.py:8: FutureWarning: Calling float on a single element Series is deprecated and will raise a TypeError in the future. Use float(ser.iloc[0]) instead\n",
      "  ratings_row[idx] += curr_rating\n"
     ]
    }
   ],
   "source": [
    "new_user_vector = calculate_user_vector(new_user_ratings)"
   ]
  },
  {
   "cell_type": "code",
   "execution_count": 26,
   "id": "d86c4b5a",
   "metadata": {},
   "outputs": [
    {
     "name": "stdout",
     "output_type": "stream",
     "text": [
      "<class 'pandas.core.frame.DataFrame'>\n",
      "RangeIndex: 9742 entries, 0 to 9741\n",
      "Data columns (total 22 columns):\n",
      " #   Column          Non-Null Count  Dtype  \n",
      "---  ------          --------------  -----  \n",
      " 0   year            9742 non-null   float64\n",
      " 1   average_rating  9742 non-null   float64\n",
      " 2   War             9742 non-null   float64\n",
      " 3   Thriller        9742 non-null   float64\n",
      " 4   Sci-Fi          9742 non-null   float64\n",
      " 5   Documentary     9742 non-null   float64\n",
      " 6   Romance         9742 non-null   float64\n",
      " 7   Horror          9742 non-null   float64\n",
      " 8   Western         9742 non-null   float64\n",
      " 9   Film-Noir       9742 non-null   float64\n",
      " 10  Adventure       9742 non-null   float64\n",
      " 11  Action          9742 non-null   float64\n",
      " 12  Musical         9742 non-null   float64\n",
      " 13  Mystery         9742 non-null   float64\n",
      " 14  Crime           9742 non-null   float64\n",
      " 15  Fantasy         9742 non-null   float64\n",
      " 16  Unknown         9742 non-null   float64\n",
      " 17  IMAX            9742 non-null   float64\n",
      " 18  Comedy          9742 non-null   float64\n",
      " 19  Animation       9742 non-null   float64\n",
      " 20  Children        9742 non-null   float64\n",
      " 21  Drama           9742 non-null   float64\n",
      "dtypes: float64(22)\n",
      "memory usage: 1.6 MB\n",
      "<class 'pandas.core.series.Series'>\n",
      "RangeIndex: 9742 entries, 0 to 9741\n",
      "Series name: movieID\n",
      "Non-Null Count  Dtype  \n",
      "--------------  -----  \n",
      "9742 non-null   float64\n",
      "dtypes: float64(1)\n",
      "memory usage: 76.2 KB\n"
     ]
    }
   ],
   "source": [
    "def load_movies_data():\n",
    "    movies_data = pd.read_csv(\"Data/training_data/movies_encoded_data.csv\")\n",
    "    movie_ids = movies_data[\"movieID\"].copy(deep=True)\n",
    "    movies_data = movies_data.drop([\"movieID\"], axis=1)\n",
    "    return movies_data, movie_ids\n",
    "\n",
    "all_movies_data, movie_ids = load_movies_data()\n",
    "all_movies_data.info()\n",
    "movie_ids.info()"
   ]
  },
  {
   "cell_type": "code",
   "execution_count": 50,
   "id": "9443f9af",
   "metadata": {},
   "outputs": [
    {
     "name": "stdout",
     "output_type": "stream",
     "text": [
      "\u001b[1m 26/305\u001b[0m \u001b[32m━\u001b[0m\u001b[37m━━━━━━━━━━━━━━━━━━━\u001b[0m \u001b[1m0s\u001b[0m 2ms/step "
     ]
    },
    {
     "name": "stderr",
     "output_type": "stream",
     "text": [
      "d:\\GitHub\\Recommender-System\\movrecsys\\Lib\\site-packages\\sklearn\\base.py:493: UserWarning: X does not have valid feature names, but StandardScaler was fitted with feature names\n",
      "  warnings.warn(\n"
     ]
    },
    {
     "name": "stdout",
     "output_type": "stream",
     "text": [
      "\u001b[1m305/305\u001b[0m \u001b[32m━━━━━━━━━━━━━━━━━━━━\u001b[0m\u001b[37m\u001b[0m \u001b[1m1s\u001b[0m 2ms/step\n"
     ]
    }
   ],
   "source": [
    "def recommend_movies(user_vector):\n",
    "    ## Get Data\n",
    "    all_movies_data, movie_ids = load_movies_data()\n",
    "    model_user_data = np.tile(new_user_vector, (all_movies_data.shape[0], 1))\n",
    "\n",
    "    ##Scale Data\n",
    "    model_movies_data = movies_scaler.transform(all_movies_data)\n",
    "    model_user_data = users_scaler.transform(model_user_data)\n",
    "\n",
    "    ## Pass through Model\n",
    "    result = model_recsys.predict([model_user_data, all_movies_data])\n",
    "\n",
    "    ## inverse transform result\n",
    "    pred_ratings = ratings_scaler.inverse_transform(result)\n",
    "    indexes = np.argsort(pred_ratings, axis=0).reshape(-1)[::-1]\n",
    "\n",
    "    ## Return Movie Indexes\n",
    "    return movie_ids[indexes]    \n",
    "\n",
    "pred_movie_ids = recommend_movies(new_user_ratings)"
   ]
  },
  {
   "cell_type": "code",
   "execution_count": 52,
   "id": "da3173b1",
   "metadata": {},
   "outputs": [
    {
     "data": {
      "text/plain": [
       "9542    172637.0\n",
       "3759      5244.0\n",
       "8551    115727.0\n",
       "5448     26073.0\n",
       "5503     26401.0\n",
       "3081      4135.0\n",
       "7097     70451.0\n",
       "7525     84512.0\n",
       "5466     26169.0\n",
       "3110      4180.0\n",
       "Name: movieID, dtype: float64"
      ]
     },
     "execution_count": 52,
     "metadata": {},
     "output_type": "execute_result"
    }
   ],
   "source": [
    "pred_movie_ids[:10]"
   ]
  },
  {
   "cell_type": "code",
   "execution_count": 57,
   "id": "3cac1fa8",
   "metadata": {},
   "outputs": [
    {
     "data": {
      "text/html": [
       "<div>\n",
       "<style scoped>\n",
       "    .dataframe tbody tr th:only-of-type {\n",
       "        vertical-align: middle;\n",
       "    }\n",
       "\n",
       "    .dataframe tbody tr th {\n",
       "        vertical-align: top;\n",
       "    }\n",
       "\n",
       "    .dataframe thead th {\n",
       "        text-align: right;\n",
       "    }\n",
       "</style>\n",
       "<table border=\"1\" class=\"dataframe\">\n",
       "  <thead>\n",
       "    <tr style=\"text-align: right;\">\n",
       "      <th></th>\n",
       "      <th>movieId</th>\n",
       "      <th>title</th>\n",
       "      <th>genres</th>\n",
       "    </tr>\n",
       "  </thead>\n",
       "  <tbody>\n",
       "    <tr>\n",
       "      <th>1540</th>\n",
       "      <td>2075</td>\n",
       "      <td>Mephisto (1981)</td>\n",
       "      <td>Drama|War</td>\n",
       "    </tr>\n",
       "    <tr>\n",
       "      <th>2740</th>\n",
       "      <td>3678</td>\n",
       "      <td>Man with the Golden Arm, The (1955)</td>\n",
       "      <td>Drama</td>\n",
       "    </tr>\n",
       "    <tr>\n",
       "      <th>3081</th>\n",
       "      <td>4135</td>\n",
       "      <td>Monster Squad, The (1987)</td>\n",
       "      <td>Adventure|Comedy|Horror</td>\n",
       "    </tr>\n",
       "    <tr>\n",
       "      <th>3110</th>\n",
       "      <td>4180</td>\n",
       "      <td>Reform School Girls (1986)</td>\n",
       "      <td>Action|Drama</td>\n",
       "    </tr>\n",
       "    <tr>\n",
       "      <th>3759</th>\n",
       "      <td>5244</td>\n",
       "      <td>Shogun Assassin (1980)</td>\n",
       "      <td>Action|Adventure</td>\n",
       "    </tr>\n",
       "    <tr>\n",
       "      <th>3908</th>\n",
       "      <td>5490</td>\n",
       "      <td>The Big Bus (1976)</td>\n",
       "      <td>Action|Comedy</td>\n",
       "    </tr>\n",
       "    <tr>\n",
       "      <th>4474</th>\n",
       "      <td>6611</td>\n",
       "      <td>Umberto D. (1952)</td>\n",
       "      <td>Drama</td>\n",
       "    </tr>\n",
       "    <tr>\n",
       "      <th>4595</th>\n",
       "      <td>6835</td>\n",
       "      <td>Alien Contamination (1980)</td>\n",
       "      <td>Action|Horror|Sci-Fi</td>\n",
       "    </tr>\n",
       "    <tr>\n",
       "      <th>4783</th>\n",
       "      <td>7122</td>\n",
       "      <td>King of Hearts (1966)</td>\n",
       "      <td>Comedy|Drama|War</td>\n",
       "    </tr>\n",
       "    <tr>\n",
       "      <th>5426</th>\n",
       "      <td>25887</td>\n",
       "      <td>Tales of Manhattan (1942)</td>\n",
       "      <td>Comedy|Drama</td>\n",
       "    </tr>\n",
       "    <tr>\n",
       "      <th>5448</th>\n",
       "      <td>26073</td>\n",
       "      <td>Human Condition III, The (Ningen no joken III)...</td>\n",
       "      <td>Drama|War</td>\n",
       "    </tr>\n",
       "    <tr>\n",
       "      <th>5466</th>\n",
       "      <td>26169</td>\n",
       "      <td>Branded to Kill (Koroshi no rakuin) (1967)</td>\n",
       "      <td>Action|Crime|Drama</td>\n",
       "    </tr>\n",
       "    <tr>\n",
       "      <th>5503</th>\n",
       "      <td>26401</td>\n",
       "      <td>Last Hurrah for Chivalry (Hao xia) (1979)</td>\n",
       "      <td>Action|Drama</td>\n",
       "    </tr>\n",
       "    <tr>\n",
       "      <th>6283</th>\n",
       "      <td>47736</td>\n",
       "      <td>Chump at Oxford, A (1940)</td>\n",
       "      <td>Comedy</td>\n",
       "    </tr>\n",
       "    <tr>\n",
       "      <th>7097</th>\n",
       "      <td>70451</td>\n",
       "      <td>Max Manus (2008)</td>\n",
       "      <td>Action|Drama|War</td>\n",
       "    </tr>\n",
       "    <tr>\n",
       "      <th>7525</th>\n",
       "      <td>84512</td>\n",
       "      <td>Girls About Town (1931)</td>\n",
       "      <td>Comedy</td>\n",
       "    </tr>\n",
       "    <tr>\n",
       "      <th>8551</th>\n",
       "      <td>115727</td>\n",
       "      <td>Crippled Avengers (Can que) (Return of the 5 D...</td>\n",
       "      <td>Action|Adventure</td>\n",
       "    </tr>\n",
       "    <tr>\n",
       "      <th>8985</th>\n",
       "      <td>138835</td>\n",
       "      <td>Return to Treasure Island (1988)</td>\n",
       "      <td>Adventure|Animation|Comedy</td>\n",
       "    </tr>\n",
       "    <tr>\n",
       "      <th>9046</th>\n",
       "      <td>141816</td>\n",
       "      <td>12 Chairs (1976)</td>\n",
       "      <td>Adventure|Comedy</td>\n",
       "    </tr>\n",
       "    <tr>\n",
       "      <th>9542</th>\n",
       "      <td>172637</td>\n",
       "      <td>Priklyucheniya Kapitana Vrungelya (1979)</td>\n",
       "      <td>Action|Adventure|Animation|Comedy</td>\n",
       "    </tr>\n",
       "  </tbody>\n",
       "</table>\n",
       "</div>"
      ],
      "text/plain": [
       "      movieId                                              title  \\\n",
       "1540     2075                                    Mephisto (1981)   \n",
       "2740     3678                Man with the Golden Arm, The (1955)   \n",
       "3081     4135                          Monster Squad, The (1987)   \n",
       "3110     4180                         Reform School Girls (1986)   \n",
       "3759     5244                             Shogun Assassin (1980)   \n",
       "3908     5490                                 The Big Bus (1976)   \n",
       "4474     6611                                  Umberto D. (1952)   \n",
       "4595     6835                         Alien Contamination (1980)   \n",
       "4783     7122                              King of Hearts (1966)   \n",
       "5426    25887                          Tales of Manhattan (1942)   \n",
       "5448    26073  Human Condition III, The (Ningen no joken III)...   \n",
       "5466    26169         Branded to Kill (Koroshi no rakuin) (1967)   \n",
       "5503    26401          Last Hurrah for Chivalry (Hao xia) (1979)   \n",
       "6283    47736                          Chump at Oxford, A (1940)   \n",
       "7097    70451                                   Max Manus (2008)   \n",
       "7525    84512                            Girls About Town (1931)   \n",
       "8551   115727  Crippled Avengers (Can que) (Return of the 5 D...   \n",
       "8985   138835                   Return to Treasure Island (1988)   \n",
       "9046   141816                                   12 Chairs (1976)   \n",
       "9542   172637           Priklyucheniya Kapitana Vrungelya (1979)   \n",
       "\n",
       "                                 genres  \n",
       "1540                          Drama|War  \n",
       "2740                              Drama  \n",
       "3081            Adventure|Comedy|Horror  \n",
       "3110                       Action|Drama  \n",
       "3759                   Action|Adventure  \n",
       "3908                      Action|Comedy  \n",
       "4474                              Drama  \n",
       "4595               Action|Horror|Sci-Fi  \n",
       "4783                   Comedy|Drama|War  \n",
       "5426                       Comedy|Drama  \n",
       "5448                          Drama|War  \n",
       "5466                 Action|Crime|Drama  \n",
       "5503                       Action|Drama  \n",
       "6283                             Comedy  \n",
       "7097                   Action|Drama|War  \n",
       "7525                             Comedy  \n",
       "8551                   Action|Adventure  \n",
       "8985         Adventure|Animation|Comedy  \n",
       "9046                   Adventure|Comedy  \n",
       "9542  Action|Adventure|Animation|Comedy  "
      ]
     },
     "execution_count": 57,
     "metadata": {},
     "output_type": "execute_result"
    }
   ],
   "source": [
    "movies.loc[movies[\"movieId\"].isin(pred_movie_ids[:20])]"
   ]
  },
  {
   "cell_type": "code",
   "execution_count": null,
   "id": "87c7c30e",
   "metadata": {},
   "outputs": [
    {
     "name": "stdout",
     "output_type": "stream",
     "text": [
      "   id value\n",
      "0   2     d\n",
      "1   5     e\n",
      "2   1     b\n"
     ]
    }
   ],
   "source": [
    "def retrieve_ordered_ids(df, id_list, id_column='id'):\n",
    "    \"\"\"\n",
    "    Retrieves rows from a DataFrame based on a list of IDs, maintaining the order.\n",
    "\n",
    "    Args:\n",
    "        df (pd.DataFrame): The DataFrame to search.\n",
    "        id_list (list): A list of IDs to retrieve.\n",
    "        id_column (str): The name of the column containing the IDs.\n",
    "\n",
    "    Returns:\n",
    "        pd.DataFrame: A DataFrame containing the retrieved rows in the specified order.\n",
    "    \"\"\"\n",
    "\n",
    "    # Filter the DataFrame using isin()\n",
    "    filtered_df = df[df[id_column].isin(id_list)]\n",
    "\n",
    "    # Set the ID column as the index for efficient reindexing\n",
    "    filtered_df = filtered_df.set_index(id_column)\n",
    "\n",
    "    # Reindex the DataFrame using the provided ID list\n",
    "    result_df = filtered_df.reindex(id_list)\n",
    "\n",
    "    # Reset the index to restore the original DataFrame structure\n",
    "    result_df = result_df.reset_index()\n",
    "\n",
    "    return result_df\n",
    "\n",
    "# Example Usage:\n",
    "data = {'id': [3, 1, 4, 2, 5],\n",
    "        'value': ['a', 'b', 'c', 'd', 'e']}\n",
    "df = pd.DataFrame(data)\n",
    "\n",
    "ids_to_find = [2, 5, 1]\n",
    "ordered_result = retrieve_ordered_ids(df, ids_to_find)\n",
    "\n",
    "print(ordered_result)"
   ]
  },
  {
   "cell_type": "code",
   "execution_count": 62,
   "id": "ca1b4ed7",
   "metadata": {},
   "outputs": [],
   "source": [
    "ordered_df = retrieve_ordered_ids(movies, pred_movie_ids, \"movieId\")"
   ]
  },
  {
   "cell_type": "code",
   "execution_count": 64,
   "id": "21d060e0",
   "metadata": {},
   "outputs": [
    {
     "data": {
      "text/html": [
       "<div>\n",
       "<style scoped>\n",
       "    .dataframe tbody tr th:only-of-type {\n",
       "        vertical-align: middle;\n",
       "    }\n",
       "\n",
       "    .dataframe tbody tr th {\n",
       "        vertical-align: top;\n",
       "    }\n",
       "\n",
       "    .dataframe thead th {\n",
       "        text-align: right;\n",
       "    }\n",
       "</style>\n",
       "<table border=\"1\" class=\"dataframe\">\n",
       "  <thead>\n",
       "    <tr style=\"text-align: right;\">\n",
       "      <th></th>\n",
       "      <th>movieID</th>\n",
       "      <th>title</th>\n",
       "      <th>genres</th>\n",
       "    </tr>\n",
       "  </thead>\n",
       "  <tbody>\n",
       "    <tr>\n",
       "      <th>0</th>\n",
       "      <td>172637.0</td>\n",
       "      <td>Priklyucheniya Kapitana Vrungelya (1979)</td>\n",
       "      <td>Action|Adventure|Animation|Comedy</td>\n",
       "    </tr>\n",
       "    <tr>\n",
       "      <th>1</th>\n",
       "      <td>5244.0</td>\n",
       "      <td>Shogun Assassin (1980)</td>\n",
       "      <td>Action|Adventure</td>\n",
       "    </tr>\n",
       "    <tr>\n",
       "      <th>2</th>\n",
       "      <td>115727.0</td>\n",
       "      <td>Crippled Avengers (Can que) (Return of the 5 D...</td>\n",
       "      <td>Action|Adventure</td>\n",
       "    </tr>\n",
       "    <tr>\n",
       "      <th>3</th>\n",
       "      <td>26073.0</td>\n",
       "      <td>Human Condition III, The (Ningen no joken III)...</td>\n",
       "      <td>Drama|War</td>\n",
       "    </tr>\n",
       "    <tr>\n",
       "      <th>4</th>\n",
       "      <td>26401.0</td>\n",
       "      <td>Last Hurrah for Chivalry (Hao xia) (1979)</td>\n",
       "      <td>Action|Drama</td>\n",
       "    </tr>\n",
       "    <tr>\n",
       "      <th>5</th>\n",
       "      <td>4135.0</td>\n",
       "      <td>Monster Squad, The (1987)</td>\n",
       "      <td>Adventure|Comedy|Horror</td>\n",
       "    </tr>\n",
       "    <tr>\n",
       "      <th>6</th>\n",
       "      <td>70451.0</td>\n",
       "      <td>Max Manus (2008)</td>\n",
       "      <td>Action|Drama|War</td>\n",
       "    </tr>\n",
       "    <tr>\n",
       "      <th>7</th>\n",
       "      <td>84512.0</td>\n",
       "      <td>Girls About Town (1931)</td>\n",
       "      <td>Comedy</td>\n",
       "    </tr>\n",
       "    <tr>\n",
       "      <th>8</th>\n",
       "      <td>26169.0</td>\n",
       "      <td>Branded to Kill (Koroshi no rakuin) (1967)</td>\n",
       "      <td>Action|Crime|Drama</td>\n",
       "    </tr>\n",
       "    <tr>\n",
       "      <th>9</th>\n",
       "      <td>4180.0</td>\n",
       "      <td>Reform School Girls (1986)</td>\n",
       "      <td>Action|Drama</td>\n",
       "    </tr>\n",
       "    <tr>\n",
       "      <th>10</th>\n",
       "      <td>6835.0</td>\n",
       "      <td>Alien Contamination (1980)</td>\n",
       "      <td>Action|Horror|Sci-Fi</td>\n",
       "    </tr>\n",
       "    <tr>\n",
       "      <th>11</th>\n",
       "      <td>138835.0</td>\n",
       "      <td>Return to Treasure Island (1988)</td>\n",
       "      <td>Adventure|Animation|Comedy</td>\n",
       "    </tr>\n",
       "    <tr>\n",
       "      <th>12</th>\n",
       "      <td>7122.0</td>\n",
       "      <td>King of Hearts (1966)</td>\n",
       "      <td>Comedy|Drama|War</td>\n",
       "    </tr>\n",
       "    <tr>\n",
       "      <th>13</th>\n",
       "      <td>5490.0</td>\n",
       "      <td>The Big Bus (1976)</td>\n",
       "      <td>Action|Comedy</td>\n",
       "    </tr>\n",
       "    <tr>\n",
       "      <th>14</th>\n",
       "      <td>6611.0</td>\n",
       "      <td>Umberto D. (1952)</td>\n",
       "      <td>Drama</td>\n",
       "    </tr>\n",
       "    <tr>\n",
       "      <th>15</th>\n",
       "      <td>25887.0</td>\n",
       "      <td>Tales of Manhattan (1942)</td>\n",
       "      <td>Comedy|Drama</td>\n",
       "    </tr>\n",
       "    <tr>\n",
       "      <th>16</th>\n",
       "      <td>141816.0</td>\n",
       "      <td>12 Chairs (1976)</td>\n",
       "      <td>Adventure|Comedy</td>\n",
       "    </tr>\n",
       "    <tr>\n",
       "      <th>17</th>\n",
       "      <td>47736.0</td>\n",
       "      <td>Chump at Oxford, A (1940)</td>\n",
       "      <td>Comedy</td>\n",
       "    </tr>\n",
       "    <tr>\n",
       "      <th>18</th>\n",
       "      <td>3678.0</td>\n",
       "      <td>Man with the Golden Arm, The (1955)</td>\n",
       "      <td>Drama</td>\n",
       "    </tr>\n",
       "    <tr>\n",
       "      <th>19</th>\n",
       "      <td>2075.0</td>\n",
       "      <td>Mephisto (1981)</td>\n",
       "      <td>Drama|War</td>\n",
       "    </tr>\n",
       "    <tr>\n",
       "      <th>20</th>\n",
       "      <td>163112.0</td>\n",
       "      <td>Winnie the Pooh Goes Visiting (1971)</td>\n",
       "      <td>Animation</td>\n",
       "    </tr>\n",
       "  </tbody>\n",
       "</table>\n",
       "</div>"
      ],
      "text/plain": [
       "     movieID                                              title  \\\n",
       "0   172637.0           Priklyucheniya Kapitana Vrungelya (1979)   \n",
       "1     5244.0                             Shogun Assassin (1980)   \n",
       "2   115727.0  Crippled Avengers (Can que) (Return of the 5 D...   \n",
       "3    26073.0  Human Condition III, The (Ningen no joken III)...   \n",
       "4    26401.0          Last Hurrah for Chivalry (Hao xia) (1979)   \n",
       "5     4135.0                          Monster Squad, The (1987)   \n",
       "6    70451.0                                   Max Manus (2008)   \n",
       "7    84512.0                            Girls About Town (1931)   \n",
       "8    26169.0         Branded to Kill (Koroshi no rakuin) (1967)   \n",
       "9     4180.0                         Reform School Girls (1986)   \n",
       "10    6835.0                         Alien Contamination (1980)   \n",
       "11  138835.0                   Return to Treasure Island (1988)   \n",
       "12    7122.0                              King of Hearts (1966)   \n",
       "13    5490.0                                 The Big Bus (1976)   \n",
       "14    6611.0                                  Umberto D. (1952)   \n",
       "15   25887.0                          Tales of Manhattan (1942)   \n",
       "16  141816.0                                   12 Chairs (1976)   \n",
       "17   47736.0                          Chump at Oxford, A (1940)   \n",
       "18    3678.0                Man with the Golden Arm, The (1955)   \n",
       "19    2075.0                                    Mephisto (1981)   \n",
       "20  163112.0               Winnie the Pooh Goes Visiting (1971)   \n",
       "\n",
       "                               genres  \n",
       "0   Action|Adventure|Animation|Comedy  \n",
       "1                    Action|Adventure  \n",
       "2                    Action|Adventure  \n",
       "3                           Drama|War  \n",
       "4                        Action|Drama  \n",
       "5             Adventure|Comedy|Horror  \n",
       "6                    Action|Drama|War  \n",
       "7                              Comedy  \n",
       "8                  Action|Crime|Drama  \n",
       "9                        Action|Drama  \n",
       "10               Action|Horror|Sci-Fi  \n",
       "11         Adventure|Animation|Comedy  \n",
       "12                   Comedy|Drama|War  \n",
       "13                      Action|Comedy  \n",
       "14                              Drama  \n",
       "15                       Comedy|Drama  \n",
       "16                   Adventure|Comedy  \n",
       "17                             Comedy  \n",
       "18                              Drama  \n",
       "19                          Drama|War  \n",
       "20                          Animation  "
      ]
     },
     "execution_count": 64,
     "metadata": {},
     "output_type": "execute_result"
    }
   ],
   "source": [
    "ordered_df.loc[:20]"
   ]
  },
  {
   "cell_type": "code",
   "execution_count": null,
   "id": "fa6e1cf9",
   "metadata": {},
   "outputs": [],
   "source": []
  }
 ],
 "metadata": {
  "kernelspec": {
   "display_name": "movrecsys",
   "language": "python",
   "name": "python3"
  },
  "language_info": {
   "codemirror_mode": {
    "name": "ipython",
    "version": 3
   },
   "file_extension": ".py",
   "mimetype": "text/x-python",
   "name": "python",
   "nbconvert_exporter": "python",
   "pygments_lexer": "ipython3",
   "version": "3.11.4"
  }
 },
 "nbformat": 4,
 "nbformat_minor": 5
}
